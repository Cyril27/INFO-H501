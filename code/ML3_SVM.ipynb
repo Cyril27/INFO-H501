{
 "cells": [
  {
   "cell_type": "markdown",
   "metadata": {},
   "source": [
    "# Machine Learning 3 - Support Vector Machines\n",
    "\n",
    "A SVM classifier builds a set of hyper-planes to try and separate the data by maximizing the distance between the borders and the data points.\n",
    "\n",
    "![SVM](http://scikit-learn.org/stable/_images/sphx_glr_plot_separating_hyperplane_0011.png \"Decision border in an SVM\")\n",
    "\n",
    "This separation is generally not possible to achieve in the original data space. Therefore, the first step of the SVM is to project the data into a high or infinite dimensions space in which this linear separation can be done. The projection can be done with linear, polynomial, or more comonly \"RBF\" kernels."
   ]
  },
  {
   "cell_type": "code",
   "execution_count": 56,
   "metadata": {},
   "outputs": [
    {
     "name": "stdout",
     "output_type": "stream",
     "text": [
      "Pre-loading training data\n",
      "Pre-loading test data\n"
     ]
    }
   ],
   "source": [
    "from lab_tools import CIFAR10, evaluate_classifier, get_hog_image\n",
    "\n",
    "dataset = CIFAR10('./CIFAR10/')"
   ]
  },
  {
   "cell_type": "code",
   "execution_count": null,
   "metadata": {},
   "outputs": [],
   "source": [
    "# Project data in a new space with a kernel so in this hyper space it is  liearly separable\n",
    "# Hyper-parameters to analyze: \n",
    "# - Kernel function (linear,rbf,..)\n",
    "# - Reguralization parameters (relax the condition of having a perfect linear to prevent \n",
    "# overfitting, so allow errors but penalize the error with a regulatization term, the more penalization \n",
    "# the more we force linear separation): C the error penalty\n",
    "# - 1v1 or 1 v rest"
   ]
  },
  {
   "cell_type": "markdown",
   "metadata": {},
   "source": [
    "**Build a simple SVM** using [the SVC (Support Vector Classfiication) from sklearn](http://scikit-learn.org/stable/modules/generated/sklearn.svm.SVC.html#sklearn.svm.SVC). \n",
    "**Train** it on the CIFAR dataset."
   ]
  },
  {
   "cell_type": "code",
   "execution_count": 120,
   "metadata": {},
   "outputs": [
    {
     "data": {
      "text/plain": [
       "SVC(C=10)"
      ]
     },
     "execution_count": 120,
     "metadata": {},
     "output_type": "execute_result"
    }
   ],
   "source": [
    "from sklearn.svm import SVC\n",
    "from sklearn.model_selection import StratifiedKFold\n",
    "\n",
    "svc = SVC(C=10, gamma='scale')\n",
    "svc.fit(dataset.train['hog'], dataset.train['labels'])\n"
   ]
  },
  {
   "cell_type": "code",
   "execution_count": 5,
   "metadata": {},
   "outputs": [],
   "source": [
    "from sklearn.metrics import accuracy_score"
   ]
  },
  {
   "cell_type": "code",
   "execution_count": 121,
   "metadata": {},
   "outputs": [
    {
     "name": "stdout",
     "output_type": "stream",
     "text": [
      "(15000,)\n",
      "Descriptive accuracy : 0.9996666666666667\n"
     ]
    }
   ],
   "source": [
    "pred = svc.predict(dataset.train['hog'])\n",
    "print(pred.shape)\n",
    "\n",
    "score = accuracy_score(dataset.train['labels'], pred)\n",
    "print(f'Descriptive accuracy : {score}')"
   ]
  },
  {
   "cell_type": "code",
   "execution_count": 122,
   "metadata": {},
   "outputs": [
    {
     "name": "stdout",
     "output_type": "stream",
     "text": [
      "(3000,)\n",
      "Predictive accuracy : 0.8253333333333334\n"
     ]
    }
   ],
   "source": [
    "pred = svc.predict(dataset.test['hog'])\n",
    "print(pred.shape)\n",
    "\n",
    "score = accuracy_score(dataset.test['labels'], pred)\n",
    "print(f'Predictive accuracy : {score}')"
   ]
  },
  {
   "cell_type": "markdown",
   "metadata": {},
   "source": [
    "**Explore the classifier**. How many support vectors are there? What are support vectors?"
   ]
  },
  {
   "cell_type": "code",
   "execution_count": 123,
   "metadata": {},
   "outputs": [
    {
     "name": "stdout",
     "output_type": "stream",
     "text": [
      "(9460, 256)\n",
      "[2984 3791 2685]\n"
     ]
    }
   ],
   "source": [
    "all_support_vectors = svc.support_vectors_ #Each line = 1 \"Support Vector\" ; 1024 columns forming a 32x32 image \n",
    "print(all_support_vectors.shape)\n",
    "\n",
    "vectors_per_class = svc.n_support_ #Number of \"Support Vector\" for each class\n",
    "print(vectors_per_class)\n",
    "\n"
   ]
  },
  {
   "cell_type": "markdown",
   "metadata": {},
   "source": [
    "**Try to find the best \"C\" (error penalty) and \"gamma\" parameters** using cross-validation. What influence does \"C\" have on the number of support vectors?"
   ]
  },
  {
   "cell_type": "markdown",
   "metadata": {},
   "source": [
    "## Original"
   ]
  },
  {
   "cell_type": "code",
   "execution_count": 30,
   "metadata": {},
   "outputs": [
    {
     "name": "stdout",
     "output_type": "stream",
     "text": [
      "Fitting 3 folds for each of 64 candidates, totalling 192 fits\n",
      "[CV] END C=1, decision_function_shape=ovo, gamma=scale, kernel=linear; total time=  19.2s\n",
      "[CV] END C=1, decision_function_shape=ovo, gamma=scale, kernel=linear; total time=  18.6s\n",
      "[CV] END C=1, decision_function_shape=ovo, gamma=scale, kernel=linear; total time=  18.1s\n",
      "[CV] END C=1, decision_function_shape=ovo, gamma=scale, kernel=poly; total time=  10.6s\n",
      "[CV] END C=1, decision_function_shape=ovo, gamma=scale, kernel=poly; total time=  10.5s\n",
      "[CV] END C=1, decision_function_shape=ovo, gamma=scale, kernel=poly; total time=  10.5s\n",
      "[CV] END C=1, decision_function_shape=ovo, gamma=scale, kernel=rbf; total time=  15.2s\n",
      "[CV] END C=1, decision_function_shape=ovo, gamma=scale, kernel=rbf; total time=  14.6s\n",
      "[CV] END C=1, decision_function_shape=ovo, gamma=scale, kernel=rbf; total time=  14.2s\n",
      "[CV] END C=1, decision_function_shape=ovo, gamma=scale, kernel=sigmoid; total time=  10.3s\n",
      "[CV] END C=1, decision_function_shape=ovo, gamma=scale, kernel=sigmoid; total time=   9.8s\n",
      "[CV] END C=1, decision_function_shape=ovo, gamma=scale, kernel=sigmoid; total time=  10.5s\n",
      "[CV] END C=1, decision_function_shape=ovo, gamma=auto, kernel=linear; total time=  18.2s\n",
      "[CV] END C=1, decision_function_shape=ovo, gamma=auto, kernel=linear; total time=  18.0s\n",
      "[CV] END C=1, decision_function_shape=ovo, gamma=auto, kernel=linear; total time=  18.4s\n",
      "[CV] END C=1, decision_function_shape=ovo, gamma=auto, kernel=poly; total time=  24.1s\n",
      "[CV] END C=1, decision_function_shape=ovo, gamma=auto, kernel=poly; total time=  23.5s\n",
      "[CV] END C=1, decision_function_shape=ovo, gamma=auto, kernel=poly; total time=  24.0s\n",
      "[CV] END C=1, decision_function_shape=ovo, gamma=auto, kernel=rbf; total time=  31.2s\n",
      "[CV] END C=1, decision_function_shape=ovo, gamma=auto, kernel=rbf; total time=  31.6s\n",
      "[CV] END C=1, decision_function_shape=ovo, gamma=auto, kernel=rbf; total time=  31.3s\n",
      "[CV] END C=1, decision_function_shape=ovo, gamma=auto, kernel=sigmoid; total time=  24.8s\n",
      "[CV] END C=1, decision_function_shape=ovo, gamma=auto, kernel=sigmoid; total time=  25.3s\n",
      "[CV] END C=1, decision_function_shape=ovo, gamma=auto, kernel=sigmoid; total time=  24.8s\n",
      "[CV] END C=1, decision_function_shape=ovr, gamma=scale, kernel=linear; total time=  19.4s\n",
      "[CV] END C=1, decision_function_shape=ovr, gamma=scale, kernel=linear; total time=  18.4s\n",
      "[CV] END C=1, decision_function_shape=ovr, gamma=scale, kernel=linear; total time=  19.2s\n",
      "[CV] END C=1, decision_function_shape=ovr, gamma=scale, kernel=poly; total time=  10.6s\n",
      "[CV] END C=1, decision_function_shape=ovr, gamma=scale, kernel=poly; total time=  10.6s\n",
      "[CV] END C=1, decision_function_shape=ovr, gamma=scale, kernel=poly; total time=  10.6s\n",
      "[CV] END C=1, decision_function_shape=ovr, gamma=scale, kernel=rbf; total time=  14.6s\n",
      "[CV] END C=1, decision_function_shape=ovr, gamma=scale, kernel=rbf; total time=  14.6s\n",
      "[CV] END C=1, decision_function_shape=ovr, gamma=scale, kernel=rbf; total time=  14.4s\n",
      "[CV] END C=1, decision_function_shape=ovr, gamma=scale, kernel=sigmoid; total time=  10.3s\n",
      "[CV] END C=1, decision_function_shape=ovr, gamma=scale, kernel=sigmoid; total time=  10.7s\n",
      "[CV] END C=1, decision_function_shape=ovr, gamma=scale, kernel=sigmoid; total time=  10.9s\n",
      "[CV] END C=1, decision_function_shape=ovr, gamma=auto, kernel=linear; total time=  19.5s\n",
      "[CV] END C=1, decision_function_shape=ovr, gamma=auto, kernel=linear; total time=  18.9s\n",
      "[CV] END C=1, decision_function_shape=ovr, gamma=auto, kernel=linear; total time=  18.9s\n",
      "[CV] END C=1, decision_function_shape=ovr, gamma=auto, kernel=poly; total time=  23.5s\n",
      "[CV] END C=1, decision_function_shape=ovr, gamma=auto, kernel=poly; total time=  23.7s\n",
      "[CV] END C=1, decision_function_shape=ovr, gamma=auto, kernel=poly; total time=  23.7s\n",
      "[CV] END C=1, decision_function_shape=ovr, gamma=auto, kernel=rbf; total time=  31.3s\n",
      "[CV] END C=1, decision_function_shape=ovr, gamma=auto, kernel=rbf; total time=  31.4s\n",
      "[CV] END C=1, decision_function_shape=ovr, gamma=auto, kernel=rbf; total time=  31.5s\n",
      "[CV] END C=1, decision_function_shape=ovr, gamma=auto, kernel=sigmoid; total time=  24.6s\n",
      "[CV] END C=1, decision_function_shape=ovr, gamma=auto, kernel=sigmoid; total time=  25.4s\n",
      "[CV] END C=1, decision_function_shape=ovr, gamma=auto, kernel=sigmoid; total time=  25.5s\n",
      "[CV] END C=10, decision_function_shape=ovo, gamma=scale, kernel=linear; total time=  13.3s\n",
      "[CV] END C=10, decision_function_shape=ovo, gamma=scale, kernel=linear; total time=  13.7s\n",
      "[CV] END C=10, decision_function_shape=ovo, gamma=scale, kernel=linear; total time=  13.5s\n",
      "[CV] END C=10, decision_function_shape=ovo, gamma=scale, kernel=poly; total time=  10.7s\n",
      "[CV] END C=10, decision_function_shape=ovo, gamma=scale, kernel=poly; total time=  10.6s\n",
      "[CV] END C=10, decision_function_shape=ovo, gamma=scale, kernel=poly; total time=  11.2s\n",
      "[CV] END C=10, decision_function_shape=ovo, gamma=scale, kernel=rbf; total time=  19.7s\n",
      "[CV] END C=10, decision_function_shape=ovo, gamma=scale, kernel=rbf; total time=  18.6s\n",
      "[CV] END C=10, decision_function_shape=ovo, gamma=scale, kernel=rbf; total time=  18.6s\n",
      "[CV] END C=10, decision_function_shape=ovo, gamma=scale, kernel=sigmoid; total time=   9.0s\n",
      "[CV] END C=10, decision_function_shape=ovo, gamma=scale, kernel=sigmoid; total time=   8.9s\n",
      "[CV] END C=10, decision_function_shape=ovo, gamma=scale, kernel=sigmoid; total time=   9.0s\n",
      "[CV] END C=10, decision_function_shape=ovo, gamma=auto, kernel=linear; total time=  12.9s\n",
      "[CV] END C=10, decision_function_shape=ovo, gamma=auto, kernel=linear; total time=  12.9s\n",
      "[CV] END C=10, decision_function_shape=ovo, gamma=auto, kernel=linear; total time=  13.4s\n",
      "[CV] END C=10, decision_function_shape=ovo, gamma=auto, kernel=poly; total time=  23.7s\n",
      "[CV] END C=10, decision_function_shape=ovo, gamma=auto, kernel=poly; total time=  23.3s\n",
      "[CV] END C=10, decision_function_shape=ovo, gamma=auto, kernel=poly; total time=  24.5s\n",
      "[CV] END C=10, decision_function_shape=ovo, gamma=auto, kernel=rbf; total time=  30.2s\n",
      "[CV] END C=10, decision_function_shape=ovo, gamma=auto, kernel=rbf; total time=  30.0s\n",
      "[CV] END C=10, decision_function_shape=ovo, gamma=auto, kernel=rbf; total time=  30.1s\n",
      "[CV] END C=10, decision_function_shape=ovo, gamma=auto, kernel=sigmoid; total time=  25.2s\n",
      "[CV] END C=10, decision_function_shape=ovo, gamma=auto, kernel=sigmoid; total time=  25.3s\n",
      "[CV] END C=10, decision_function_shape=ovo, gamma=auto, kernel=sigmoid; total time=  24.6s\n",
      "[CV] END C=10, decision_function_shape=ovr, gamma=scale, kernel=linear; total time=  13.6s\n",
      "[CV] END C=10, decision_function_shape=ovr, gamma=scale, kernel=linear; total time=  13.8s\n",
      "[CV] END C=10, decision_function_shape=ovr, gamma=scale, kernel=linear; total time=  13.4s\n",
      "[CV] END C=10, decision_function_shape=ovr, gamma=scale, kernel=poly; total time=  11.1s\n",
      "[CV] END C=10, decision_function_shape=ovr, gamma=scale, kernel=poly; total time=  10.8s\n",
      "[CV] END C=10, decision_function_shape=ovr, gamma=scale, kernel=poly; total time=  10.9s\n",
      "[CV] END C=10, decision_function_shape=ovr, gamma=scale, kernel=rbf; total time=  19.9s\n",
      "[CV] END C=10, decision_function_shape=ovr, gamma=scale, kernel=rbf; total time=  19.0s\n",
      "[CV] END C=10, decision_function_shape=ovr, gamma=scale, kernel=rbf; total time=  19.8s\n",
      "[CV] END C=10, decision_function_shape=ovr, gamma=scale, kernel=sigmoid; total time=   9.2s\n",
      "[CV] END C=10, decision_function_shape=ovr, gamma=scale, kernel=sigmoid; total time=   9.1s\n",
      "[CV] END C=10, decision_function_shape=ovr, gamma=scale, kernel=sigmoid; total time=   9.7s\n",
      "[CV] END C=10, decision_function_shape=ovr, gamma=auto, kernel=linear; total time=  13.3s\n",
      "[CV] END C=10, decision_function_shape=ovr, gamma=auto, kernel=linear; total time=  13.7s\n",
      "[CV] END C=10, decision_function_shape=ovr, gamma=auto, kernel=linear; total time=  13.3s\n",
      "[CV] END C=10, decision_function_shape=ovr, gamma=auto, kernel=poly; total time=  24.4s\n",
      "[CV] END C=10, decision_function_shape=ovr, gamma=auto, kernel=poly; total time=  24.8s\n",
      "[CV] END C=10, decision_function_shape=ovr, gamma=auto, kernel=poly; total time=  23.8s\n",
      "[CV] END C=10, decision_function_shape=ovr, gamma=auto, kernel=rbf; total time=  29.8s\n",
      "[CV] END C=10, decision_function_shape=ovr, gamma=auto, kernel=rbf; total time=  31.7s\n"
     ]
    },
    {
     "name": "stdout",
     "output_type": "stream",
     "text": [
      "[CV] END C=10, decision_function_shape=ovr, gamma=auto, kernel=rbf; total time=  30.3s\n",
      "[CV] END C=10, decision_function_shape=ovr, gamma=auto, kernel=sigmoid; total time=  26.3s\n",
      "[CV] END C=10, decision_function_shape=ovr, gamma=auto, kernel=sigmoid; total time=  24.9s\n",
      "[CV] END C=10, decision_function_shape=ovr, gamma=auto, kernel=sigmoid; total time=  25.0s\n",
      "[CV] END C=50, decision_function_shape=ovo, gamma=scale, kernel=linear; total time=  11.1s\n",
      "[CV] END C=50, decision_function_shape=ovo, gamma=scale, kernel=linear; total time=  10.8s\n",
      "[CV] END C=50, decision_function_shape=ovo, gamma=scale, kernel=linear; total time=  10.6s\n",
      "[CV] END C=50, decision_function_shape=ovo, gamma=scale, kernel=poly; total time=  10.5s\n",
      "[CV] END C=50, decision_function_shape=ovo, gamma=scale, kernel=poly; total time=  11.1s\n",
      "[CV] END C=50, decision_function_shape=ovo, gamma=scale, kernel=poly; total time=  11.1s\n",
      "[CV] END C=50, decision_function_shape=ovo, gamma=scale, kernel=rbf; total time=  19.1s\n",
      "[CV] END C=50, decision_function_shape=ovo, gamma=scale, kernel=rbf; total time=  19.4s\n",
      "[CV] END C=50, decision_function_shape=ovo, gamma=scale, kernel=rbf; total time=  18.9s\n",
      "[CV] END C=50, decision_function_shape=ovo, gamma=scale, kernel=sigmoid; total time=   8.7s\n",
      "[CV] END C=50, decision_function_shape=ovo, gamma=scale, kernel=sigmoid; total time=   9.5s\n",
      "[CV] END C=50, decision_function_shape=ovo, gamma=scale, kernel=sigmoid; total time=   8.7s\n",
      "[CV] END C=50, decision_function_shape=ovo, gamma=auto, kernel=linear; total time=  11.2s\n",
      "[CV] END C=50, decision_function_shape=ovo, gamma=auto, kernel=linear; total time=  11.3s\n",
      "[CV] END C=50, decision_function_shape=ovo, gamma=auto, kernel=linear; total time=  10.9s\n",
      "[CV] END C=50, decision_function_shape=ovo, gamma=auto, kernel=poly; total time=  23.9s\n",
      "[CV] END C=50, decision_function_shape=ovo, gamma=auto, kernel=poly; total time=  24.1s\n",
      "[CV] END C=50, decision_function_shape=ovo, gamma=auto, kernel=poly; total time=  24.2s\n",
      "[CV] END C=50, decision_function_shape=ovo, gamma=auto, kernel=rbf; total time=  29.0s\n",
      "[CV] END C=50, decision_function_shape=ovo, gamma=auto, kernel=rbf; total time=  29.2s\n",
      "[CV] END C=50, decision_function_shape=ovo, gamma=auto, kernel=rbf; total time=  28.9s\n",
      "[CV] END C=50, decision_function_shape=ovo, gamma=auto, kernel=sigmoid; total time=  24.6s\n",
      "[CV] END C=50, decision_function_shape=ovo, gamma=auto, kernel=sigmoid; total time=  24.6s\n",
      "[CV] END C=50, decision_function_shape=ovo, gamma=auto, kernel=sigmoid; total time=  24.5s\n",
      "[CV] END C=50, decision_function_shape=ovr, gamma=scale, kernel=linear; total time=  11.1s\n",
      "[CV] END C=50, decision_function_shape=ovr, gamma=scale, kernel=linear; total time=  11.6s\n",
      "[CV] END C=50, decision_function_shape=ovr, gamma=scale, kernel=linear; total time=  13.6s\n",
      "[CV] END C=50, decision_function_shape=ovr, gamma=scale, kernel=poly; total time=  11.0s\n",
      "[CV] END C=50, decision_function_shape=ovr, gamma=scale, kernel=poly; total time=  10.1s\n",
      "[CV] END C=50, decision_function_shape=ovr, gamma=scale, kernel=poly; total time=  11.2s\n",
      "[CV] END C=50, decision_function_shape=ovr, gamma=scale, kernel=rbf; total time=  20.0s\n",
      "[CV] END C=50, decision_function_shape=ovr, gamma=scale, kernel=rbf; total time=  19.5s\n",
      "[CV] END C=50, decision_function_shape=ovr, gamma=scale, kernel=rbf; total time=  19.2s\n",
      "[CV] END C=50, decision_function_shape=ovr, gamma=scale, kernel=sigmoid; total time=   8.8s\n",
      "[CV] END C=50, decision_function_shape=ovr, gamma=scale, kernel=sigmoid; total time=   9.1s\n",
      "[CV] END C=50, decision_function_shape=ovr, gamma=scale, kernel=sigmoid; total time=   8.8s\n",
      "[CV] END C=50, decision_function_shape=ovr, gamma=auto, kernel=linear; total time=  11.1s\n",
      "[CV] END C=50, decision_function_shape=ovr, gamma=auto, kernel=linear; total time=  11.0s\n",
      "[CV] END C=50, decision_function_shape=ovr, gamma=auto, kernel=linear; total time=  10.9s\n",
      "[CV] END C=50, decision_function_shape=ovr, gamma=auto, kernel=poly; total time=  23.8s\n",
      "[CV] END C=50, decision_function_shape=ovr, gamma=auto, kernel=poly; total time=  23.7s\n",
      "[CV] END C=50, decision_function_shape=ovr, gamma=auto, kernel=poly; total time=  23.8s\n",
      "[CV] END C=50, decision_function_shape=ovr, gamma=auto, kernel=rbf; total time=  28.4s\n",
      "[CV] END C=50, decision_function_shape=ovr, gamma=auto, kernel=rbf; total time=  29.4s\n",
      "[CV] END C=50, decision_function_shape=ovr, gamma=auto, kernel=rbf; total time=  28.7s\n",
      "[CV] END C=50, decision_function_shape=ovr, gamma=auto, kernel=sigmoid; total time=  24.6s\n",
      "[CV] END C=50, decision_function_shape=ovr, gamma=auto, kernel=sigmoid; total time=  25.3s\n",
      "[CV] END C=50, decision_function_shape=ovr, gamma=auto, kernel=sigmoid; total time=  24.0s\n",
      "[CV] END C=100, decision_function_shape=ovo, gamma=scale, kernel=linear; total time=  10.7s\n",
      "[CV] END C=100, decision_function_shape=ovo, gamma=scale, kernel=linear; total time=  10.5s\n",
      "[CV] END C=100, decision_function_shape=ovo, gamma=scale, kernel=linear; total time=  10.5s\n",
      "[CV] END C=100, decision_function_shape=ovo, gamma=scale, kernel=poly; total time=  10.8s\n",
      "[CV] END C=100, decision_function_shape=ovo, gamma=scale, kernel=poly; total time=  10.6s\n",
      "[CV] END C=100, decision_function_shape=ovo, gamma=scale, kernel=poly; total time=  10.7s\n",
      "[CV] END C=100, decision_function_shape=ovo, gamma=scale, kernel=rbf; total time=  19.0s\n",
      "[CV] END C=100, decision_function_shape=ovo, gamma=scale, kernel=rbf; total time=  18.9s\n",
      "[CV] END C=100, decision_function_shape=ovo, gamma=scale, kernel=rbf; total time=  18.6s\n",
      "[CV] END C=100, decision_function_shape=ovo, gamma=scale, kernel=sigmoid; total time=   8.7s\n",
      "[CV] END C=100, decision_function_shape=ovo, gamma=scale, kernel=sigmoid; total time=   8.8s\n",
      "[CV] END C=100, decision_function_shape=ovo, gamma=scale, kernel=sigmoid; total time=   8.6s\n",
      "[CV] END C=100, decision_function_shape=ovo, gamma=auto, kernel=linear; total time=  10.5s\n",
      "[CV] END C=100, decision_function_shape=ovo, gamma=auto, kernel=linear; total time=  10.4s\n",
      "[CV] END C=100, decision_function_shape=ovo, gamma=auto, kernel=linear; total time=  10.4s\n",
      "[CV] END C=100, decision_function_shape=ovo, gamma=auto, kernel=poly; total time=  23.1s\n",
      "[CV] END C=100, decision_function_shape=ovo, gamma=auto, kernel=poly; total time=  24.4s\n",
      "[CV] END C=100, decision_function_shape=ovo, gamma=auto, kernel=poly; total time=  22.7s\n",
      "[CV] END C=100, decision_function_shape=ovo, gamma=auto, kernel=rbf; total time=  25.1s\n",
      "[CV] END C=100, decision_function_shape=ovo, gamma=auto, kernel=rbf; total time=  25.4s\n",
      "[CV] END C=100, decision_function_shape=ovo, gamma=auto, kernel=rbf; total time=  25.4s\n",
      "[CV] END C=100, decision_function_shape=ovo, gamma=auto, kernel=sigmoid; total time=  22.8s\n",
      "[CV] END C=100, decision_function_shape=ovo, gamma=auto, kernel=sigmoid; total time=  22.8s\n",
      "[CV] END C=100, decision_function_shape=ovo, gamma=auto, kernel=sigmoid; total time=  22.4s\n",
      "[CV] END C=100, decision_function_shape=ovr, gamma=scale, kernel=linear; total time=  10.3s\n",
      "[CV] END C=100, decision_function_shape=ovr, gamma=scale, kernel=linear; total time=  10.4s\n",
      "[CV] END C=100, decision_function_shape=ovr, gamma=scale, kernel=linear; total time=  10.2s\n",
      "[CV] END C=100, decision_function_shape=ovr, gamma=scale, kernel=poly; total time=  10.9s\n",
      "[CV] END C=100, decision_function_shape=ovr, gamma=scale, kernel=poly; total time=  10.8s\n",
      "[CV] END C=100, decision_function_shape=ovr, gamma=scale, kernel=poly; total time=  10.8s\n",
      "[CV] END C=100, decision_function_shape=ovr, gamma=scale, kernel=rbf; total time=  18.9s\n",
      "[CV] END C=100, decision_function_shape=ovr, gamma=scale, kernel=rbf; total time=  18.7s\n",
      "[CV] END C=100, decision_function_shape=ovr, gamma=scale, kernel=rbf; total time=  18.7s\n",
      "[CV] END C=100, decision_function_shape=ovr, gamma=scale, kernel=sigmoid; total time=   8.8s\n",
      "[CV] END C=100, decision_function_shape=ovr, gamma=scale, kernel=sigmoid; total time=   8.8s\n",
      "[CV] END C=100, decision_function_shape=ovr, gamma=scale, kernel=sigmoid; total time=   8.9s\n",
      "[CV] END C=100, decision_function_shape=ovr, gamma=auto, kernel=linear; total time=  10.4s\n",
      "[CV] END C=100, decision_function_shape=ovr, gamma=auto, kernel=linear; total time=  10.5s\n",
      "[CV] END C=100, decision_function_shape=ovr, gamma=auto, kernel=linear; total time=  10.4s\n"
     ]
    },
    {
     "name": "stdout",
     "output_type": "stream",
     "text": [
      "[CV] END C=100, decision_function_shape=ovr, gamma=auto, kernel=poly; total time=  23.9s\n",
      "[CV] END C=100, decision_function_shape=ovr, gamma=auto, kernel=poly; total time=  23.8s\n",
      "[CV] END C=100, decision_function_shape=ovr, gamma=auto, kernel=poly; total time=  23.3s\n",
      "[CV] END C=100, decision_function_shape=ovr, gamma=auto, kernel=rbf; total time=  26.0s\n",
      "[CV] END C=100, decision_function_shape=ovr, gamma=auto, kernel=rbf; total time=  25.9s\n",
      "[CV] END C=100, decision_function_shape=ovr, gamma=auto, kernel=rbf; total time=  26.0s\n",
      "[CV] END C=100, decision_function_shape=ovr, gamma=auto, kernel=sigmoid; total time=  22.7s\n",
      "[CV] END C=100, decision_function_shape=ovr, gamma=auto, kernel=sigmoid; total time=  23.8s\n",
      "[CV] END C=100, decision_function_shape=ovr, gamma=auto, kernel=sigmoid; total time= 3.5min\n",
      "Best Parameters: {'C': 10, 'decision_function_shape': 'ovo', 'gamma': 'scale', 'kernel': 'rbf'}\n",
      "Best Score: 0.8194666666666667\n",
      "Test Accuracy with Best Model: 0.8253333333333334\n"
     ]
    }
   ],
   "source": [
    "from sklearn.model_selection import GridSearchCV\n",
    "from sklearn.svm import SVC\n",
    "\n",
    "\n",
    "parameter_space = {\n",
    "    'C': [1, 10, 50, 100],\n",
    "    'gamma': ['scale', 'auto'],\n",
    "    'kernel': ['linear', 'poly', 'rbf', 'sigmoid'],\n",
    "    'decision_function_shape': ['ovo', 'ovr']\n",
    "    \n",
    "}\n",
    "\n",
    "svc = SVC()\n",
    "\n",
    "\n",
    "grid_search = GridSearchCV(estimator=svc, param_grid=parameter_space, cv=3, scoring='accuracy', verbose=2)\n",
    "grid_search.fit(dataset.train['hog'], dataset.train['labels'])\n",
    "\n",
    "best_params = grid_search.best_params_\n",
    "best_score = grid_search.best_score_\n",
    "\n",
    "print(\"Best Parameters:\", best_params)\n",
    "print(\"Best Score:\", best_score)\n",
    "\n",
    "best_svc = grid_search.best_estimator_\n",
    "best_svc.fit(dataset.train['hog'], dataset.train['labels'])\n",
    "\n",
    "test_accuracy = best_svc.score(dataset.test['hog'], dataset.test['labels'])\n",
    "print(\"Test Accuracy with Best Model:\", test_accuracy)"
   ]
  },
  {
   "cell_type": "code",
   "execution_count": null,
   "metadata": {},
   "outputs": [],
   "source": [
    "#Best Parameters: {'C': 10, 'decision_function_shape': 'ovo', 'gamma': 'scale', 'kernel': 'rbf'}\n",
    "#Best Score: 0.8194666666666667\n",
    "#Test Accuracy with Best Model: 0.8253333333333334"
   ]
  },
  {
   "cell_type": "markdown",
   "metadata": {},
   "source": [
    "## Normalized [-1,1]"
   ]
  },
  {
   "cell_type": "code",
   "execution_count": 57,
   "metadata": {},
   "outputs": [],
   "source": [
    "import numpy as np\n",
    "from sklearn.preprocessing import MinMaxScaler\n",
    "\n",
    "scaler = MinMaxScaler(feature_range=(-1, 1))\n",
    "normalized_11_train = scaler.fit_transform(dataset.train['hog'])\n",
    "normalized_11_test = scaler.fit_transform(dataset.test['hog'])"
   ]
  },
  {
   "cell_type": "code",
   "execution_count": 58,
   "metadata": {},
   "outputs": [
    {
     "name": "stdout",
     "output_type": "stream",
     "text": [
      "(15000, 256)\n",
      "1.0\n",
      "-1.0\n"
     ]
    }
   ],
   "source": [
    "print(normalized_11_train.shape)\n",
    "print(normalized_11_train.max(axis=0).max())\n",
    "print(normalized_11_train.min(axis=0).min())"
   ]
  },
  {
   "cell_type": "code",
   "execution_count": 44,
   "metadata": {},
   "outputs": [
    {
     "name": "stdout",
     "output_type": "stream",
     "text": [
      "Fitting 3 folds for each of 64 candidates, totalling 192 fits\n",
      "[CV] END C=1, decision_function_shape=ovo, gamma=scale, kernel=linear; total time=  14.5s\n",
      "[CV] END C=1, decision_function_shape=ovo, gamma=scale, kernel=linear; total time=  13.9s\n",
      "[CV] END C=1, decision_function_shape=ovo, gamma=scale, kernel=linear; total time=  13.6s\n",
      "[CV] END C=1, decision_function_shape=ovo, gamma=scale, kernel=poly; total time=  48.6s\n",
      "[CV] END C=1, decision_function_shape=ovo, gamma=scale, kernel=poly; total time=  48.0s\n",
      "[CV] END C=1, decision_function_shape=ovo, gamma=scale, kernel=poly; total time=  47.3s\n",
      "[CV] END C=1, decision_function_shape=ovo, gamma=scale, kernel=rbf; total time=  18.7s\n",
      "[CV] END C=1, decision_function_shape=ovo, gamma=scale, kernel=rbf; total time=  19.2s\n",
      "[CV] END C=1, decision_function_shape=ovo, gamma=scale, kernel=rbf; total time=  18.9s\n",
      "[CV] END C=1, decision_function_shape=ovo, gamma=scale, kernel=sigmoid; total time=  29.1s\n",
      "[CV] END C=1, decision_function_shape=ovo, gamma=scale, kernel=sigmoid; total time=  28.2s\n",
      "[CV] END C=1, decision_function_shape=ovo, gamma=scale, kernel=sigmoid; total time=  28.3s\n",
      "[CV] END C=1, decision_function_shape=ovo, gamma=auto, kernel=linear; total time=  14.1s\n",
      "[CV] END C=1, decision_function_shape=ovo, gamma=auto, kernel=linear; total time=  13.8s\n",
      "[CV] END C=1, decision_function_shape=ovo, gamma=auto, kernel=linear; total time=  13.6s\n",
      "[CV] END C=1, decision_function_shape=ovo, gamma=auto, kernel=poly; total time=  19.8s\n",
      "[CV] END C=1, decision_function_shape=ovo, gamma=auto, kernel=poly; total time=  19.5s\n",
      "[CV] END C=1, decision_function_shape=ovo, gamma=auto, kernel=poly; total time=  18.1s\n",
      "[CV] END C=1, decision_function_shape=ovo, gamma=auto, kernel=rbf; total time=  24.4s\n",
      "[CV] END C=1, decision_function_shape=ovo, gamma=auto, kernel=rbf; total time=  26.0s\n",
      "[CV] END C=1, decision_function_shape=ovo, gamma=auto, kernel=rbf; total time=  27.0s\n",
      "[CV] END C=1, decision_function_shape=ovo, gamma=auto, kernel=sigmoid; total time=  28.1s\n",
      "[CV] END C=1, decision_function_shape=ovo, gamma=auto, kernel=sigmoid; total time=  26.8s\n",
      "[CV] END C=1, decision_function_shape=ovo, gamma=auto, kernel=sigmoid; total time=  29.3s\n",
      "[CV] END C=1, decision_function_shape=ovr, gamma=scale, kernel=linear; total time=  14.0s\n",
      "[CV] END C=1, decision_function_shape=ovr, gamma=scale, kernel=linear; total time=  14.1s\n",
      "[CV] END C=1, decision_function_shape=ovr, gamma=scale, kernel=linear; total time=  14.0s\n",
      "[CV] END C=1, decision_function_shape=ovr, gamma=scale, kernel=poly; total time=  49.6s\n",
      "[CV] END C=1, decision_function_shape=ovr, gamma=scale, kernel=poly; total time=  48.9s\n",
      "[CV] END C=1, decision_function_shape=ovr, gamma=scale, kernel=poly; total time=  48.5s\n",
      "[CV] END C=1, decision_function_shape=ovr, gamma=scale, kernel=rbf; total time=  19.7s\n",
      "[CV] END C=1, decision_function_shape=ovr, gamma=scale, kernel=rbf; total time=  19.8s\n",
      "[CV] END C=1, decision_function_shape=ovr, gamma=scale, kernel=rbf; total time=  20.1s\n",
      "[CV] END C=1, decision_function_shape=ovr, gamma=scale, kernel=sigmoid; total time=  29.1s\n",
      "[CV] END C=1, decision_function_shape=ovr, gamma=scale, kernel=sigmoid; total time=  29.1s\n",
      "[CV] END C=1, decision_function_shape=ovr, gamma=scale, kernel=sigmoid; total time=  29.1s\n",
      "[CV] END C=1, decision_function_shape=ovr, gamma=auto, kernel=linear; total time=  14.3s\n",
      "[CV] END C=1, decision_function_shape=ovr, gamma=auto, kernel=linear; total time=  14.4s\n",
      "[CV] END C=1, decision_function_shape=ovr, gamma=auto, kernel=linear; total time=  14.2s\n",
      "[CV] END C=1, decision_function_shape=ovr, gamma=auto, kernel=poly; total time=  19.9s\n",
      "[CV] END C=1, decision_function_shape=ovr, gamma=auto, kernel=poly; total time=  19.6s\n",
      "[CV] END C=1, decision_function_shape=ovr, gamma=auto, kernel=poly; total time=  19.8s\n",
      "[CV] END C=1, decision_function_shape=ovr, gamma=auto, kernel=rbf; total time=  26.8s\n",
      "[CV] END C=1, decision_function_shape=ovr, gamma=auto, kernel=rbf; total time=  26.7s\n",
      "[CV] END C=1, decision_function_shape=ovr, gamma=auto, kernel=rbf; total time=  26.5s\n",
      "[CV] END C=1, decision_function_shape=ovr, gamma=auto, kernel=sigmoid; total time=  28.7s\n",
      "[CV] END C=1, decision_function_shape=ovr, gamma=auto, kernel=sigmoid; total time=  28.8s\n",
      "[CV] END C=1, decision_function_shape=ovr, gamma=auto, kernel=sigmoid; total time=  28.3s\n",
      "[CV] END C=10, decision_function_shape=ovo, gamma=scale, kernel=linear; total time=  23.8s\n",
      "[CV] END C=10, decision_function_shape=ovo, gamma=scale, kernel=linear; total time=  23.7s\n",
      "[CV] END C=10, decision_function_shape=ovo, gamma=scale, kernel=linear; total time=  24.3s\n",
      "[CV] END C=10, decision_function_shape=ovo, gamma=scale, kernel=poly; total time=  49.8s\n",
      "[CV] END C=10, decision_function_shape=ovo, gamma=scale, kernel=poly; total time=  48.7s\n",
      "[CV] END C=10, decision_function_shape=ovo, gamma=scale, kernel=poly; total time=  48.5s\n",
      "[CV] END C=10, decision_function_shape=ovo, gamma=scale, kernel=rbf; total time=  26.0s\n",
      "[CV] END C=10, decision_function_shape=ovo, gamma=scale, kernel=rbf; total time=  26.1s\n",
      "[CV] END C=10, decision_function_shape=ovo, gamma=scale, kernel=rbf; total time=  25.7s\n",
      "[CV] END C=10, decision_function_shape=ovo, gamma=scale, kernel=sigmoid; total time=  29.2s\n",
      "[CV] END C=10, decision_function_shape=ovo, gamma=scale, kernel=sigmoid; total time=  29.6s\n",
      "[CV] END C=10, decision_function_shape=ovo, gamma=scale, kernel=sigmoid; total time=  29.5s\n",
      "[CV] END C=10, decision_function_shape=ovo, gamma=auto, kernel=linear; total time=  24.0s\n",
      "[CV] END C=10, decision_function_shape=ovo, gamma=auto, kernel=linear; total time=  24.4s\n",
      "[CV] END C=10, decision_function_shape=ovo, gamma=auto, kernel=linear; total time=  24.9s\n",
      "[CV] END C=10, decision_function_shape=ovo, gamma=auto, kernel=poly; total time=  15.2s\n",
      "[CV] END C=10, decision_function_shape=ovo, gamma=auto, kernel=poly; total time=  15.6s\n",
      "[CV] END C=10, decision_function_shape=ovo, gamma=auto, kernel=poly; total time=  15.4s\n",
      "[CV] END C=10, decision_function_shape=ovo, gamma=auto, kernel=rbf; total time=  20.8s\n",
      "[CV] END C=10, decision_function_shape=ovo, gamma=auto, kernel=rbf; total time=  20.8s\n",
      "[CV] END C=10, decision_function_shape=ovo, gamma=auto, kernel=rbf; total time=  20.6s\n",
      "[CV] END C=10, decision_function_shape=ovo, gamma=auto, kernel=sigmoid; total time=  20.8s\n",
      "[CV] END C=10, decision_function_shape=ovo, gamma=auto, kernel=sigmoid; total time=  21.0s\n",
      "[CV] END C=10, decision_function_shape=ovo, gamma=auto, kernel=sigmoid; total time=  20.4s\n",
      "[CV] END C=10, decision_function_shape=ovr, gamma=scale, kernel=linear; total time=  25.4s\n",
      "[CV] END C=10, decision_function_shape=ovr, gamma=scale, kernel=linear; total time=  25.0s\n",
      "[CV] END C=10, decision_function_shape=ovr, gamma=scale, kernel=linear; total time=  25.8s\n",
      "[CV] END C=10, decision_function_shape=ovr, gamma=scale, kernel=poly; total time=  52.3s\n",
      "[CV] END C=10, decision_function_shape=ovr, gamma=scale, kernel=poly; total time=  50.7s\n",
      "[CV] END C=10, decision_function_shape=ovr, gamma=scale, kernel=poly; total time=  39.9s\n",
      "[CV] END C=10, decision_function_shape=ovr, gamma=scale, kernel=rbf; total time=  19.6s\n",
      "[CV] END C=10, decision_function_shape=ovr, gamma=scale, kernel=rbf; total time=  20.1s\n",
      "[CV] END C=10, decision_function_shape=ovr, gamma=scale, kernel=rbf; total time=  19.8s\n",
      "[CV] END C=10, decision_function_shape=ovr, gamma=scale, kernel=sigmoid; total time=  22.6s\n",
      "[CV] END C=10, decision_function_shape=ovr, gamma=scale, kernel=sigmoid; total time=  22.7s\n",
      "[CV] END C=10, decision_function_shape=ovr, gamma=scale, kernel=sigmoid; total time=  21.9s\n",
      "[CV] END C=10, decision_function_shape=ovr, gamma=auto, kernel=linear; total time=  18.9s\n",
      "[CV] END C=10, decision_function_shape=ovr, gamma=auto, kernel=linear; total time=  18.6s\n",
      "[CV] END C=10, decision_function_shape=ovr, gamma=auto, kernel=linear; total time=  19.1s\n",
      "[CV] END C=10, decision_function_shape=ovr, gamma=auto, kernel=poly; total time=  11.9s\n",
      "[CV] END C=10, decision_function_shape=ovr, gamma=auto, kernel=poly; total time=  11.6s\n",
      "[CV] END C=10, decision_function_shape=ovr, gamma=auto, kernel=poly; total time=  11.3s\n",
      "[CV] END C=10, decision_function_shape=ovr, gamma=auto, kernel=rbf; total time=  15.4s\n",
      "[CV] END C=10, decision_function_shape=ovr, gamma=auto, kernel=rbf; total time=  15.8s\n"
     ]
    },
    {
     "name": "stdout",
     "output_type": "stream",
     "text": [
      "[CV] END C=10, decision_function_shape=ovr, gamma=auto, kernel=rbf; total time=  17.4s\n",
      "[CV] END C=10, decision_function_shape=ovr, gamma=auto, kernel=sigmoid; total time=  18.3s\n",
      "[CV] END C=10, decision_function_shape=ovr, gamma=auto, kernel=sigmoid; total time=  18.7s\n",
      "[CV] END C=10, decision_function_shape=ovr, gamma=auto, kernel=sigmoid; total time=  18.7s\n",
      "[CV] END C=50, decision_function_shape=ovo, gamma=scale, kernel=linear; total time=  58.4s\n",
      "[CV] END C=50, decision_function_shape=ovo, gamma=scale, kernel=linear; total time=  55.1s\n",
      "[CV] END C=50, decision_function_shape=ovo, gamma=scale, kernel=linear; total time=  56.1s\n",
      "[CV] END C=50, decision_function_shape=ovo, gamma=scale, kernel=poly; total time=  48.6s\n",
      "[CV] END C=50, decision_function_shape=ovo, gamma=scale, kernel=poly; total time=  49.6s\n",
      "[CV] END C=50, decision_function_shape=ovo, gamma=scale, kernel=poly; total time=  50.0s\n",
      "[CV] END C=50, decision_function_shape=ovo, gamma=scale, kernel=rbf; total time=  27.6s\n",
      "[CV] END C=50, decision_function_shape=ovo, gamma=scale, kernel=rbf; total time=  27.5s\n",
      "[CV] END C=50, decision_function_shape=ovo, gamma=scale, kernel=rbf; total time=  26.9s\n",
      "[CV] END C=50, decision_function_shape=ovo, gamma=scale, kernel=sigmoid; total time=  30.0s\n",
      "[CV] END C=50, decision_function_shape=ovo, gamma=scale, kernel=sigmoid; total time=  30.3s\n",
      "[CV] END C=50, decision_function_shape=ovo, gamma=scale, kernel=sigmoid; total time=  31.2s\n",
      "[CV] END C=50, decision_function_shape=ovo, gamma=auto, kernel=linear; total time= 1.1min\n",
      "[CV] END C=50, decision_function_shape=ovo, gamma=auto, kernel=linear; total time= 1.0min\n",
      "[CV] END C=50, decision_function_shape=ovo, gamma=auto, kernel=linear; total time= 1.0min\n",
      "[CV] END C=50, decision_function_shape=ovo, gamma=auto, kernel=poly; total time=  14.9s\n",
      "[CV] END C=50, decision_function_shape=ovo, gamma=auto, kernel=poly; total time=  14.9s\n",
      "[CV] END C=50, decision_function_shape=ovo, gamma=auto, kernel=poly; total time=  14.3s\n",
      "[CV] END C=50, decision_function_shape=ovo, gamma=auto, kernel=rbf; total time=  18.7s\n",
      "[CV] END C=50, decision_function_shape=ovo, gamma=auto, kernel=rbf; total time=  18.6s\n",
      "[CV] END C=50, decision_function_shape=ovo, gamma=auto, kernel=rbf; total time=  18.2s\n",
      "[CV] END C=50, decision_function_shape=ovo, gamma=auto, kernel=sigmoid; total time=  17.0s\n",
      "[CV] END C=50, decision_function_shape=ovo, gamma=auto, kernel=sigmoid; total time=  17.4s\n",
      "[CV] END C=50, decision_function_shape=ovo, gamma=auto, kernel=sigmoid; total time=  17.5s\n",
      "[CV] END C=50, decision_function_shape=ovr, gamma=scale, kernel=linear; total time= 1.1min\n",
      "[CV] END C=50, decision_function_shape=ovr, gamma=scale, kernel=linear; total time= 1.0min\n",
      "[CV] END C=50, decision_function_shape=ovr, gamma=scale, kernel=linear; total time= 1.0min\n",
      "[CV] END C=50, decision_function_shape=ovr, gamma=scale, kernel=poly; total time=  53.5s\n",
      "[CV] END C=50, decision_function_shape=ovr, gamma=scale, kernel=poly; total time=  53.2s\n",
      "[CV] END C=50, decision_function_shape=ovr, gamma=scale, kernel=poly; total time=  53.1s\n",
      "[CV] END C=50, decision_function_shape=ovr, gamma=scale, kernel=rbf; total time=  29.3s\n",
      "[CV] END C=50, decision_function_shape=ovr, gamma=scale, kernel=rbf; total time=  29.1s\n",
      "[CV] END C=50, decision_function_shape=ovr, gamma=scale, kernel=rbf; total time=  28.3s\n",
      "[CV] END C=50, decision_function_shape=ovr, gamma=scale, kernel=sigmoid; total time=  32.0s\n",
      "[CV] END C=50, decision_function_shape=ovr, gamma=scale, kernel=sigmoid; total time=  31.2s\n",
      "[CV] END C=50, decision_function_shape=ovr, gamma=scale, kernel=sigmoid; total time=  31.1s\n",
      "[CV] END C=50, decision_function_shape=ovr, gamma=auto, kernel=linear; total time= 1.1min\n",
      "[CV] END C=50, decision_function_shape=ovr, gamma=auto, kernel=linear; total time=  59.2s\n",
      "[CV] END C=50, decision_function_shape=ovr, gamma=auto, kernel=linear; total time= 1.0min\n",
      "[CV] END C=50, decision_function_shape=ovr, gamma=auto, kernel=poly; total time=  15.1s\n",
      "[CV] END C=50, decision_function_shape=ovr, gamma=auto, kernel=poly; total time=  15.3s\n",
      "[CV] END C=50, decision_function_shape=ovr, gamma=auto, kernel=poly; total time=  15.1s\n",
      "[CV] END C=50, decision_function_shape=ovr, gamma=auto, kernel=rbf; total time=  19.4s\n",
      "[CV] END C=50, decision_function_shape=ovr, gamma=auto, kernel=rbf; total time=  18.9s\n",
      "[CV] END C=50, decision_function_shape=ovr, gamma=auto, kernel=rbf; total time=  18.8s\n",
      "[CV] END C=50, decision_function_shape=ovr, gamma=auto, kernel=sigmoid; total time=  17.6s\n",
      "[CV] END C=50, decision_function_shape=ovr, gamma=auto, kernel=sigmoid; total time=  17.9s\n",
      "[CV] END C=50, decision_function_shape=ovr, gamma=auto, kernel=sigmoid; total time=  17.7s\n",
      "[CV] END C=100, decision_function_shape=ovo, gamma=scale, kernel=linear; total time= 1.8min\n",
      "[CV] END C=100, decision_function_shape=ovo, gamma=scale, kernel=linear; total time= 1.8min\n",
      "[CV] END C=100, decision_function_shape=ovo, gamma=scale, kernel=linear; total time= 1.7min\n",
      "[CV] END C=100, decision_function_shape=ovo, gamma=scale, kernel=poly; total time=  54.1s\n",
      "[CV] END C=100, decision_function_shape=ovo, gamma=scale, kernel=poly; total time=  52.2s\n",
      "[CV] END C=100, decision_function_shape=ovo, gamma=scale, kernel=poly; total time=  52.0s\n",
      "[CV] END C=100, decision_function_shape=ovo, gamma=scale, kernel=rbf; total time=  28.8s\n",
      "[CV] END C=100, decision_function_shape=ovo, gamma=scale, kernel=rbf; total time=  28.8s\n",
      "[CV] END C=100, decision_function_shape=ovo, gamma=scale, kernel=rbf; total time=  28.4s\n",
      "[CV] END C=100, decision_function_shape=ovo, gamma=scale, kernel=sigmoid; total time=  31.8s\n",
      "[CV] END C=100, decision_function_shape=ovo, gamma=scale, kernel=sigmoid; total time=  31.8s\n",
      "[CV] END C=100, decision_function_shape=ovo, gamma=scale, kernel=sigmoid; total time=  32.0s\n",
      "[CV] END C=100, decision_function_shape=ovo, gamma=auto, kernel=linear; total time= 1.8min\n",
      "[CV] END C=100, decision_function_shape=ovo, gamma=auto, kernel=linear; total time= 1.9min\n",
      "[CV] END C=100, decision_function_shape=ovo, gamma=auto, kernel=linear; total time= 1.7min\n",
      "[CV] END C=100, decision_function_shape=ovo, gamma=auto, kernel=poly; total time=  16.1s\n",
      "[CV] END C=100, decision_function_shape=ovo, gamma=auto, kernel=poly; total time=  15.9s\n",
      "[CV] END C=100, decision_function_shape=ovo, gamma=auto, kernel=poly; total time=  15.0s\n",
      "[CV] END C=100, decision_function_shape=ovo, gamma=auto, kernel=rbf; total time=  19.7s\n",
      "[CV] END C=100, decision_function_shape=ovo, gamma=auto, kernel=rbf; total time=  19.8s\n",
      "[CV] END C=100, decision_function_shape=ovo, gamma=auto, kernel=rbf; total time=  19.5s\n",
      "[CV] END C=100, decision_function_shape=ovo, gamma=auto, kernel=sigmoid; total time=  17.7s\n",
      "[CV] END C=100, decision_function_shape=ovo, gamma=auto, kernel=sigmoid; total time=  17.9s\n",
      "[CV] END C=100, decision_function_shape=ovo, gamma=auto, kernel=sigmoid; total time=  14.6s\n",
      "[CV] END C=100, decision_function_shape=ovr, gamma=scale, kernel=linear; total time= 1.3min\n",
      "[CV] END C=100, decision_function_shape=ovr, gamma=scale, kernel=linear; total time= 1.3min\n",
      "[CV] END C=100, decision_function_shape=ovr, gamma=scale, kernel=linear; total time= 1.2min\n",
      "[CV] END C=100, decision_function_shape=ovr, gamma=scale, kernel=poly; total time=  38.5s\n",
      "[CV] END C=100, decision_function_shape=ovr, gamma=scale, kernel=poly; total time=  37.9s\n",
      "[CV] END C=100, decision_function_shape=ovr, gamma=scale, kernel=poly; total time=  37.6s\n",
      "[CV] END C=100, decision_function_shape=ovr, gamma=scale, kernel=rbf; total time=  19.8s\n",
      "[CV] END C=100, decision_function_shape=ovr, gamma=scale, kernel=rbf; total time=  20.3s\n",
      "[CV] END C=100, decision_function_shape=ovr, gamma=scale, kernel=rbf; total time=  19.9s\n",
      "[CV] END C=100, decision_function_shape=ovr, gamma=scale, kernel=sigmoid; total time=  21.8s\n",
      "[CV] END C=100, decision_function_shape=ovr, gamma=scale, kernel=sigmoid; total time=  22.7s\n",
      "[CV] END C=100, decision_function_shape=ovr, gamma=scale, kernel=sigmoid; total time=  22.3s\n",
      "[CV] END C=100, decision_function_shape=ovr, gamma=auto, kernel=linear; total time= 1.3min\n",
      "[CV] END C=100, decision_function_shape=ovr, gamma=auto, kernel=linear; total time= 1.5min\n",
      "[CV] END C=100, decision_function_shape=ovr, gamma=auto, kernel=linear; total time= 1.5min\n"
     ]
    },
    {
     "name": "stdout",
     "output_type": "stream",
     "text": [
      "[CV] END C=100, decision_function_shape=ovr, gamma=auto, kernel=poly; total time=  13.5s\n",
      "[CV] END C=100, decision_function_shape=ovr, gamma=auto, kernel=poly; total time=  13.5s\n",
      "[CV] END C=100, decision_function_shape=ovr, gamma=auto, kernel=poly; total time=  13.6s\n",
      "[CV] END C=100, decision_function_shape=ovr, gamma=auto, kernel=rbf; total time=  16.9s\n",
      "[CV] END C=100, decision_function_shape=ovr, gamma=auto, kernel=rbf; total time=  17.2s\n",
      "[CV] END C=100, decision_function_shape=ovr, gamma=auto, kernel=rbf; total time=  17.0s\n",
      "[CV] END C=100, decision_function_shape=ovr, gamma=auto, kernel=sigmoid; total time=  15.3s\n",
      "[CV] END C=100, decision_function_shape=ovr, gamma=auto, kernel=sigmoid; total time=  15.1s\n",
      "[CV] END C=100, decision_function_shape=ovr, gamma=auto, kernel=sigmoid; total time=  15.5s\n",
      "Best Parameters: {'C': 10, 'decision_function_shape': 'ovo', 'gamma': 'scale', 'kernel': 'rbf'}\n",
      "Best Score: 0.8194\n",
      "Test Accuracy with Best Model: 0.718\n"
     ]
    }
   ],
   "source": [
    "from sklearn.model_selection import GridSearchCV\n",
    "from sklearn.svm import SVC\n",
    "\n",
    "\n",
    "parameter_space = {\n",
    "    'C': [1, 10, 50, 100],\n",
    "    'gamma': ['scale', 'auto'],\n",
    "    'kernel': ['linear', 'poly', 'rbf', 'sigmoid'],\n",
    "    'decision_function_shape': ['ovo', 'ovr']\n",
    "    \n",
    "}\n",
    "\n",
    "svc = SVC()\n",
    "\n",
    "\n",
    "grid_search = GridSearchCV(estimator=svc, param_grid=parameter_space, cv=3, scoring='accuracy', verbose=2)\n",
    "grid_search.fit(normalized_11_train, dataset.train['labels'])\n",
    "\n",
    "best_params = grid_search.best_params_\n",
    "best_score = grid_search.best_score_\n",
    "\n",
    "print(\"Best Parameters:\", best_params)\n",
    "print(\"Best Score:\", best_score)\n",
    "\n",
    "best_svc = grid_search.best_estimator_\n",
    "best_svc.fit(normalized_11_train, dataset.train['labels'])\n",
    "\n",
    "test_accuracy = best_svc.score(normalized_11_test, dataset.test['labels'])\n",
    "print(\"Test Accuracy with Best Model:\", test_accuracy)"
   ]
  },
  {
   "cell_type": "code",
   "execution_count": null,
   "metadata": {},
   "outputs": [],
   "source": [
    "#Best Parameters: {'C': 10, 'decision_function_shape': 'ovo', 'gamma': 'scale', 'kernel': 'rbf'}\n",
    "#Best Score: 0.8194\n",
    "#Test Accuracy with Best Model: 0.718"
   ]
  },
  {
   "cell_type": "markdown",
   "metadata": {},
   "source": [
    "## PCA "
   ]
  },
  {
   "cell_type": "code",
   "execution_count": 59,
   "metadata": {},
   "outputs": [],
   "source": [
    "from sklearn.decomposition import PCA"
   ]
  },
  {
   "cell_type": "code",
   "execution_count": 60,
   "metadata": {},
   "outputs": [],
   "source": [
    "import numpy as np\n",
    "from sklearn.preprocessing import MinMaxScaler\n",
    "\n",
    "scaler = MinMaxScaler(feature_range=(0, 1))\n",
    "normalized_01_train = scaler.fit_transform(dataset.train['hog'])\n",
    "normalized_01_test = scaler.fit_transform(dataset.test['hog'])"
   ]
  },
  {
   "cell_type": "code",
   "execution_count": 61,
   "metadata": {},
   "outputs": [
    {
     "name": "stdout",
     "output_type": "stream",
     "text": [
      "(15000, 256)\n",
      "1.0\n",
      "0.0\n"
     ]
    }
   ],
   "source": [
    "print(normalized_01_train.shape)\n",
    "print(normalized_01_train.max(axis=0).max())\n",
    "print(normalized_01_train.min(axis=0).min())"
   ]
  },
  {
   "cell_type": "code",
   "execution_count": 62,
   "metadata": {},
   "outputs": [],
   "source": [
    "pca = PCA(n_components=0.80)\n",
    "\n",
    "PCA_train = pca.fit_transform(normalized_01_train)\n",
    "PCA_test = pca.transform(normalized_01_test)"
   ]
  },
  {
   "cell_type": "code",
   "execution_count": 63,
   "metadata": {},
   "outputs": [
    {
     "name": "stdout",
     "output_type": "stream",
     "text": [
      "(15000, 116)\n",
      "1.1091062857756568\n",
      "-0.7826208610830095\n",
      "(3000, 116)\n",
      "1.2691781141414178\n",
      "-0.9675240988040121\n"
     ]
    }
   ],
   "source": [
    "print(PCA_train.shape)\n",
    "print(PCA_train.max(axis=0).max())\n",
    "print(PCA_train.min(axis=0).min())\n",
    "print(PCA_test.shape)\n",
    "print(PCA_test.max(axis=0).max())\n",
    "print(PCA_test.min(axis=0).min())"
   ]
  },
  {
   "cell_type": "code",
   "execution_count": 51,
   "metadata": {},
   "outputs": [
    {
     "name": "stdout",
     "output_type": "stream",
     "text": [
      "Fitting 3 folds for each of 64 candidates, totalling 192 fits\n",
      "[CV] END C=1, decision_function_shape=ovo, gamma=scale, kernel=linear; total time=   8.1s\n",
      "[CV] END C=1, decision_function_shape=ovo, gamma=scale, kernel=linear; total time=   7.7s\n",
      "[CV] END C=1, decision_function_shape=ovo, gamma=scale, kernel=linear; total time=   7.9s\n",
      "[CV] END C=1, decision_function_shape=ovo, gamma=scale, kernel=poly; total time=  12.0s\n",
      "[CV] END C=1, decision_function_shape=ovo, gamma=scale, kernel=poly; total time=  11.7s\n",
      "[CV] END C=1, decision_function_shape=ovo, gamma=scale, kernel=poly; total time=  11.5s\n",
      "[CV] END C=1, decision_function_shape=ovo, gamma=scale, kernel=rbf; total time=  14.9s\n",
      "[CV] END C=1, decision_function_shape=ovo, gamma=scale, kernel=rbf; total time=  15.0s\n",
      "[CV] END C=1, decision_function_shape=ovo, gamma=scale, kernel=rbf; total time=  14.6s\n",
      "[CV] END C=1, decision_function_shape=ovo, gamma=scale, kernel=sigmoid; total time=   9.2s\n",
      "[CV] END C=1, decision_function_shape=ovo, gamma=scale, kernel=sigmoid; total time=   9.2s\n",
      "[CV] END C=1, decision_function_shape=ovo, gamma=scale, kernel=sigmoid; total time=   8.8s\n",
      "[CV] END C=1, decision_function_shape=ovo, gamma=auto, kernel=linear; total time=   8.2s\n",
      "[CV] END C=1, decision_function_shape=ovo, gamma=auto, kernel=linear; total time=   8.1s\n",
      "[CV] END C=1, decision_function_shape=ovo, gamma=auto, kernel=linear; total time=   8.2s\n",
      "[CV] END C=1, decision_function_shape=ovo, gamma=auto, kernel=poly; total time=  18.5s\n",
      "[CV] END C=1, decision_function_shape=ovo, gamma=auto, kernel=poly; total time=  18.1s\n",
      "[CV] END C=1, decision_function_shape=ovo, gamma=auto, kernel=poly; total time=  18.0s\n",
      "[CV] END C=1, decision_function_shape=ovo, gamma=auto, kernel=rbf; total time=  23.3s\n",
      "[CV] END C=1, decision_function_shape=ovo, gamma=auto, kernel=rbf; total time=  23.2s\n",
      "[CV] END C=1, decision_function_shape=ovo, gamma=auto, kernel=rbf; total time=  23.3s\n",
      "[CV] END C=1, decision_function_shape=ovo, gamma=auto, kernel=sigmoid; total time=  17.3s\n",
      "[CV] END C=1, decision_function_shape=ovo, gamma=auto, kernel=sigmoid; total time=  17.3s\n",
      "[CV] END C=1, decision_function_shape=ovo, gamma=auto, kernel=sigmoid; total time=  16.8s\n",
      "[CV] END C=1, decision_function_shape=ovr, gamma=scale, kernel=linear; total time=   7.9s\n",
      "[CV] END C=1, decision_function_shape=ovr, gamma=scale, kernel=linear; total time=   8.7s\n",
      "[CV] END C=1, decision_function_shape=ovr, gamma=scale, kernel=linear; total time=   8.5s\n",
      "[CV] END C=1, decision_function_shape=ovr, gamma=scale, kernel=poly; total time=  12.4s\n",
      "[CV] END C=1, decision_function_shape=ovr, gamma=scale, kernel=poly; total time=  12.4s\n",
      "[CV] END C=1, decision_function_shape=ovr, gamma=scale, kernel=poly; total time=  12.2s\n",
      "[CV] END C=1, decision_function_shape=ovr, gamma=scale, kernel=rbf; total time=  15.7s\n",
      "[CV] END C=1, decision_function_shape=ovr, gamma=scale, kernel=rbf; total time=  15.5s\n",
      "[CV] END C=1, decision_function_shape=ovr, gamma=scale, kernel=rbf; total time=  15.2s\n",
      "[CV] END C=1, decision_function_shape=ovr, gamma=scale, kernel=sigmoid; total time=   9.4s\n",
      "[CV] END C=1, decision_function_shape=ovr, gamma=scale, kernel=sigmoid; total time=   9.3s\n",
      "[CV] END C=1, decision_function_shape=ovr, gamma=scale, kernel=sigmoid; total time=   9.0s\n",
      "[CV] END C=1, decision_function_shape=ovr, gamma=auto, kernel=linear; total time=   8.2s\n",
      "[CV] END C=1, decision_function_shape=ovr, gamma=auto, kernel=linear; total time=   8.2s\n",
      "[CV] END C=1, decision_function_shape=ovr, gamma=auto, kernel=linear; total time=   8.5s\n",
      "[CV] END C=1, decision_function_shape=ovr, gamma=auto, kernel=poly; total time=  18.9s\n",
      "[CV] END C=1, decision_function_shape=ovr, gamma=auto, kernel=poly; total time=  18.9s\n",
      "[CV] END C=1, decision_function_shape=ovr, gamma=auto, kernel=poly; total time=  19.3s\n",
      "[CV] END C=1, decision_function_shape=ovr, gamma=auto, kernel=rbf; total time=  22.9s\n",
      "[CV] END C=1, decision_function_shape=ovr, gamma=auto, kernel=rbf; total time=  23.4s\n",
      "[CV] END C=1, decision_function_shape=ovr, gamma=auto, kernel=rbf; total time=  22.8s\n",
      "[CV] END C=1, decision_function_shape=ovr, gamma=auto, kernel=sigmoid; total time=  16.8s\n",
      "[CV] END C=1, decision_function_shape=ovr, gamma=auto, kernel=sigmoid; total time=  16.4s\n",
      "[CV] END C=1, decision_function_shape=ovr, gamma=auto, kernel=sigmoid; total time=  17.2s\n",
      "[CV] END C=10, decision_function_shape=ovo, gamma=scale, kernel=linear; total time=  10.2s\n",
      "[CV] END C=10, decision_function_shape=ovo, gamma=scale, kernel=linear; total time=   9.5s\n",
      "[CV] END C=10, decision_function_shape=ovo, gamma=scale, kernel=linear; total time=   9.7s\n",
      "[CV] END C=10, decision_function_shape=ovo, gamma=scale, kernel=poly; total time=  12.6s\n",
      "[CV] END C=10, decision_function_shape=ovo, gamma=scale, kernel=poly; total time=  10.3s\n",
      "[CV] END C=10, decision_function_shape=ovo, gamma=scale, kernel=poly; total time=  10.4s\n",
      "[CV] END C=10, decision_function_shape=ovo, gamma=scale, kernel=rbf; total time=  18.0s\n",
      "[CV] END C=10, decision_function_shape=ovo, gamma=scale, kernel=rbf; total time=  17.8s\n",
      "[CV] END C=10, decision_function_shape=ovo, gamma=scale, kernel=rbf; total time=  17.8s\n",
      "[CV] END C=10, decision_function_shape=ovo, gamma=scale, kernel=sigmoid; total time=   7.5s\n",
      "[CV] END C=10, decision_function_shape=ovo, gamma=scale, kernel=sigmoid; total time=   7.6s\n",
      "[CV] END C=10, decision_function_shape=ovo, gamma=scale, kernel=sigmoid; total time=   7.6s\n",
      "[CV] END C=10, decision_function_shape=ovo, gamma=auto, kernel=linear; total time=   9.8s\n",
      "[CV] END C=10, decision_function_shape=ovo, gamma=auto, kernel=linear; total time=  10.1s\n",
      "[CV] END C=10, decision_function_shape=ovo, gamma=auto, kernel=linear; total time=   9.9s\n",
      "[CV] END C=10, decision_function_shape=ovo, gamma=auto, kernel=poly; total time=  18.1s\n",
      "[CV] END C=10, decision_function_shape=ovo, gamma=auto, kernel=poly; total time=  19.0s\n",
      "[CV] END C=10, decision_function_shape=ovo, gamma=auto, kernel=poly; total time=  18.3s\n",
      "[CV] END C=10, decision_function_shape=ovo, gamma=auto, kernel=rbf; total time=  17.2s\n",
      "[CV] END C=10, decision_function_shape=ovo, gamma=auto, kernel=rbf; total time=  17.1s\n",
      "[CV] END C=10, decision_function_shape=ovo, gamma=auto, kernel=rbf; total time=  17.0s\n",
      "[CV] END C=10, decision_function_shape=ovo, gamma=auto, kernel=sigmoid; total time=  12.1s\n",
      "[CV] END C=10, decision_function_shape=ovo, gamma=auto, kernel=sigmoid; total time=  11.7s\n",
      "[CV] END C=10, decision_function_shape=ovo, gamma=auto, kernel=sigmoid; total time=  12.0s\n",
      "[CV] END C=10, decision_function_shape=ovr, gamma=scale, kernel=linear; total time=   9.8s\n",
      "[CV] END C=10, decision_function_shape=ovr, gamma=scale, kernel=linear; total time=  10.1s\n",
      "[CV] END C=10, decision_function_shape=ovr, gamma=scale, kernel=linear; total time=   9.8s\n",
      "[CV] END C=10, decision_function_shape=ovr, gamma=scale, kernel=poly; total time=  12.5s\n",
      "[CV] END C=10, decision_function_shape=ovr, gamma=scale, kernel=poly; total time=  10.6s\n",
      "[CV] END C=10, decision_function_shape=ovr, gamma=scale, kernel=poly; total time=  10.3s\n",
      "[CV] END C=10, decision_function_shape=ovr, gamma=scale, kernel=rbf; total time=  18.1s\n",
      "[CV] END C=10, decision_function_shape=ovr, gamma=scale, kernel=rbf; total time=  18.1s\n",
      "[CV] END C=10, decision_function_shape=ovr, gamma=scale, kernel=rbf; total time=  17.7s\n",
      "[CV] END C=10, decision_function_shape=ovr, gamma=scale, kernel=sigmoid; total time=   7.3s\n",
      "[CV] END C=10, decision_function_shape=ovr, gamma=scale, kernel=sigmoid; total time=   8.0s\n",
      "[CV] END C=10, decision_function_shape=ovr, gamma=scale, kernel=sigmoid; total time=   7.2s\n",
      "[CV] END C=10, decision_function_shape=ovr, gamma=auto, kernel=linear; total time=   9.6s\n",
      "[CV] END C=10, decision_function_shape=ovr, gamma=auto, kernel=linear; total time=   9.8s\n",
      "[CV] END C=10, decision_function_shape=ovr, gamma=auto, kernel=linear; total time=   9.6s\n",
      "[CV] END C=10, decision_function_shape=ovr, gamma=auto, kernel=poly; total time=  18.6s\n",
      "[CV] END C=10, decision_function_shape=ovr, gamma=auto, kernel=poly; total time=  18.2s\n",
      "[CV] END C=10, decision_function_shape=ovr, gamma=auto, kernel=poly; total time=  18.8s\n",
      "[CV] END C=10, decision_function_shape=ovr, gamma=auto, kernel=rbf; total time=  16.7s\n",
      "[CV] END C=10, decision_function_shape=ovr, gamma=auto, kernel=rbf; total time=  11.4s\n"
     ]
    },
    {
     "name": "stdout",
     "output_type": "stream",
     "text": [
      "[CV] END C=10, decision_function_shape=ovr, gamma=auto, kernel=rbf; total time=  11.5s\n",
      "[CV] END C=10, decision_function_shape=ovr, gamma=auto, kernel=sigmoid; total time=   7.8s\n",
      "[CV] END C=10, decision_function_shape=ovr, gamma=auto, kernel=sigmoid; total time=   7.6s\n",
      "[CV] END C=10, decision_function_shape=ovr, gamma=auto, kernel=sigmoid; total time=   7.5s\n",
      "[CV] END C=50, decision_function_shape=ovo, gamma=scale, kernel=linear; total time=  10.0s\n",
      "[CV] END C=50, decision_function_shape=ovo, gamma=scale, kernel=linear; total time=  10.3s\n",
      "[CV] END C=50, decision_function_shape=ovo, gamma=scale, kernel=linear; total time=  10.2s\n",
      "[CV] END C=50, decision_function_shape=ovo, gamma=scale, kernel=poly; total time=   9.0s\n",
      "[CV] END C=50, decision_function_shape=ovo, gamma=scale, kernel=poly; total time=   9.7s\n",
      "[CV] END C=50, decision_function_shape=ovo, gamma=scale, kernel=poly; total time=   8.6s\n",
      "[CV] END C=50, decision_function_shape=ovo, gamma=scale, kernel=rbf; total time=  13.2s\n",
      "[CV] END C=50, decision_function_shape=ovo, gamma=scale, kernel=rbf; total time=  13.4s\n",
      "[CV] END C=50, decision_function_shape=ovo, gamma=scale, kernel=rbf; total time=  12.1s\n",
      "[CV] END C=50, decision_function_shape=ovo, gamma=scale, kernel=sigmoid; total time=   4.9s\n",
      "[CV] END C=50, decision_function_shape=ovo, gamma=scale, kernel=sigmoid; total time=   4.7s\n",
      "[CV] END C=50, decision_function_shape=ovo, gamma=scale, kernel=sigmoid; total time=   4.7s\n",
      "[CV] END C=50, decision_function_shape=ovo, gamma=auto, kernel=linear; total time=  10.1s\n",
      "[CV] END C=50, decision_function_shape=ovo, gamma=auto, kernel=linear; total time=  10.3s\n",
      "[CV] END C=50, decision_function_shape=ovo, gamma=auto, kernel=linear; total time=  10.1s\n",
      "[CV] END C=50, decision_function_shape=ovo, gamma=auto, kernel=poly; total time=  11.3s\n",
      "[CV] END C=50, decision_function_shape=ovo, gamma=auto, kernel=poly; total time=  11.7s\n",
      "[CV] END C=50, decision_function_shape=ovo, gamma=auto, kernel=poly; total time=  11.9s\n",
      "[CV] END C=50, decision_function_shape=ovo, gamma=auto, kernel=rbf; total time=   9.8s\n",
      "[CV] END C=50, decision_function_shape=ovo, gamma=auto, kernel=rbf; total time=   9.6s\n",
      "[CV] END C=50, decision_function_shape=ovo, gamma=auto, kernel=rbf; total time=   9.4s\n",
      "[CV] END C=50, decision_function_shape=ovo, gamma=auto, kernel=sigmoid; total time=   6.4s\n",
      "[CV] END C=50, decision_function_shape=ovo, gamma=auto, kernel=sigmoid; total time=   6.4s\n",
      "[CV] END C=50, decision_function_shape=ovo, gamma=auto, kernel=sigmoid; total time=   6.3s\n",
      "[CV] END C=50, decision_function_shape=ovr, gamma=scale, kernel=linear; total time=   9.9s\n",
      "[CV] END C=50, decision_function_shape=ovr, gamma=scale, kernel=linear; total time=  10.4s\n",
      "[CV] END C=50, decision_function_shape=ovr, gamma=scale, kernel=linear; total time=  10.4s\n",
      "[CV] END C=50, decision_function_shape=ovr, gamma=scale, kernel=poly; total time=   8.7s\n",
      "[CV] END C=50, decision_function_shape=ovr, gamma=scale, kernel=poly; total time=   9.5s\n",
      "[CV] END C=50, decision_function_shape=ovr, gamma=scale, kernel=poly; total time=   8.4s\n",
      "[CV] END C=50, decision_function_shape=ovr, gamma=scale, kernel=rbf; total time=  13.2s\n",
      "[CV] END C=50, decision_function_shape=ovr, gamma=scale, kernel=rbf; total time=  13.1s\n",
      "[CV] END C=50, decision_function_shape=ovr, gamma=scale, kernel=rbf; total time=  11.9s\n",
      "[CV] END C=50, decision_function_shape=ovr, gamma=scale, kernel=sigmoid; total time=   5.0s\n",
      "[CV] END C=50, decision_function_shape=ovr, gamma=scale, kernel=sigmoid; total time=   4.7s\n",
      "[CV] END C=50, decision_function_shape=ovr, gamma=scale, kernel=sigmoid; total time=   4.6s\n",
      "[CV] END C=50, decision_function_shape=ovr, gamma=auto, kernel=linear; total time=   9.9s\n",
      "[CV] END C=50, decision_function_shape=ovr, gamma=auto, kernel=linear; total time=  10.1s\n",
      "[CV] END C=50, decision_function_shape=ovr, gamma=auto, kernel=linear; total time=  10.0s\n",
      "[CV] END C=50, decision_function_shape=ovr, gamma=auto, kernel=poly; total time=  11.2s\n",
      "[CV] END C=50, decision_function_shape=ovr, gamma=auto, kernel=poly; total time=  11.2s\n",
      "[CV] END C=50, decision_function_shape=ovr, gamma=auto, kernel=poly; total time=  11.0s\n",
      "[CV] END C=50, decision_function_shape=ovr, gamma=auto, kernel=rbf; total time=  10.3s\n",
      "[CV] END C=50, decision_function_shape=ovr, gamma=auto, kernel=rbf; total time=  10.1s\n",
      "[CV] END C=50, decision_function_shape=ovr, gamma=auto, kernel=rbf; total time=   9.6s\n",
      "[CV] END C=50, decision_function_shape=ovr, gamma=auto, kernel=sigmoid; total time=   6.4s\n",
      "[CV] END C=50, decision_function_shape=ovr, gamma=auto, kernel=sigmoid; total time=   6.4s\n",
      "[CV] END C=50, decision_function_shape=ovr, gamma=auto, kernel=sigmoid; total time=   6.4s\n",
      "[CV] END C=100, decision_function_shape=ovo, gamma=scale, kernel=linear; total time=  13.8s\n",
      "[CV] END C=100, decision_function_shape=ovo, gamma=scale, kernel=linear; total time=  13.8s\n",
      "[CV] END C=100, decision_function_shape=ovo, gamma=scale, kernel=linear; total time=  13.8s\n",
      "[CV] END C=100, decision_function_shape=ovo, gamma=scale, kernel=poly; total time=   9.3s\n",
      "[CV] END C=100, decision_function_shape=ovo, gamma=scale, kernel=poly; total time=   9.4s\n",
      "[CV] END C=100, decision_function_shape=ovo, gamma=scale, kernel=poly; total time=   8.6s\n",
      "[CV] END C=100, decision_function_shape=ovo, gamma=scale, kernel=rbf; total time=  13.2s\n",
      "[CV] END C=100, decision_function_shape=ovo, gamma=scale, kernel=rbf; total time=  13.1s\n",
      "[CV] END C=100, decision_function_shape=ovo, gamma=scale, kernel=rbf; total time=  11.9s\n",
      "[CV] END C=100, decision_function_shape=ovo, gamma=scale, kernel=sigmoid; total time=   4.6s\n",
      "[CV] END C=100, decision_function_shape=ovo, gamma=scale, kernel=sigmoid; total time=   4.7s\n",
      "[CV] END C=100, decision_function_shape=ovo, gamma=scale, kernel=sigmoid; total time=   4.6s\n",
      "[CV] END C=100, decision_function_shape=ovo, gamma=auto, kernel=linear; total time=  13.6s\n",
      "[CV] END C=100, decision_function_shape=ovo, gamma=auto, kernel=linear; total time=  14.0s\n",
      "[CV] END C=100, decision_function_shape=ovo, gamma=auto, kernel=linear; total time=  14.0s\n",
      "[CV] END C=100, decision_function_shape=ovo, gamma=auto, kernel=poly; total time=  11.3s\n",
      "[CV] END C=100, decision_function_shape=ovo, gamma=auto, kernel=poly; total time=  11.2s\n",
      "[CV] END C=100, decision_function_shape=ovo, gamma=auto, kernel=poly; total time=  11.3s\n",
      "[CV] END C=100, decision_function_shape=ovo, gamma=auto, kernel=rbf; total time=   9.6s\n",
      "[CV] END C=100, decision_function_shape=ovo, gamma=auto, kernel=rbf; total time=   9.4s\n",
      "[CV] END C=100, decision_function_shape=ovo, gamma=auto, kernel=rbf; total time=   9.2s\n",
      "[CV] END C=100, decision_function_shape=ovo, gamma=auto, kernel=sigmoid; total time=   6.2s\n",
      "[CV] END C=100, decision_function_shape=ovo, gamma=auto, kernel=sigmoid; total time=   6.1s\n",
      "[CV] END C=100, decision_function_shape=ovo, gamma=auto, kernel=sigmoid; total time=   6.1s\n",
      "[CV] END C=100, decision_function_shape=ovr, gamma=scale, kernel=linear; total time=  13.5s\n",
      "[CV] END C=100, decision_function_shape=ovr, gamma=scale, kernel=linear; total time=  13.9s\n",
      "[CV] END C=100, decision_function_shape=ovr, gamma=scale, kernel=linear; total time=  13.8s\n",
      "[CV] END C=100, decision_function_shape=ovr, gamma=scale, kernel=poly; total time=   9.3s\n",
      "[CV] END C=100, decision_function_shape=ovr, gamma=scale, kernel=poly; total time=   9.4s\n",
      "[CV] END C=100, decision_function_shape=ovr, gamma=scale, kernel=poly; total time=   8.5s\n",
      "[CV] END C=100, decision_function_shape=ovr, gamma=scale, kernel=rbf; total time=  12.7s\n",
      "[CV] END C=100, decision_function_shape=ovr, gamma=scale, kernel=rbf; total time=  12.6s\n",
      "[CV] END C=100, decision_function_shape=ovr, gamma=scale, kernel=rbf; total time=  11.7s\n",
      "[CV] END C=100, decision_function_shape=ovr, gamma=scale, kernel=sigmoid; total time=   4.6s\n",
      "[CV] END C=100, decision_function_shape=ovr, gamma=scale, kernel=sigmoid; total time=   4.7s\n",
      "[CV] END C=100, decision_function_shape=ovr, gamma=scale, kernel=sigmoid; total time=   4.6s\n",
      "[CV] END C=100, decision_function_shape=ovr, gamma=auto, kernel=linear; total time=  13.6s\n",
      "[CV] END C=100, decision_function_shape=ovr, gamma=auto, kernel=linear; total time=  14.0s\n",
      "[CV] END C=100, decision_function_shape=ovr, gamma=auto, kernel=linear; total time=  13.9s\n"
     ]
    },
    {
     "name": "stdout",
     "output_type": "stream",
     "text": [
      "[CV] END C=100, decision_function_shape=ovr, gamma=auto, kernel=poly; total time=  11.2s\n",
      "[CV] END C=100, decision_function_shape=ovr, gamma=auto, kernel=poly; total time=  11.4s\n",
      "[CV] END C=100, decision_function_shape=ovr, gamma=auto, kernel=poly; total time=  11.3s\n",
      "[CV] END C=100, decision_function_shape=ovr, gamma=auto, kernel=rbf; total time=   9.7s\n",
      "[CV] END C=100, decision_function_shape=ovr, gamma=auto, kernel=rbf; total time=   9.8s\n",
      "[CV] END C=100, decision_function_shape=ovr, gamma=auto, kernel=rbf; total time=   9.4s\n",
      "[CV] END C=100, decision_function_shape=ovr, gamma=auto, kernel=sigmoid; total time=   6.1s\n",
      "[CV] END C=100, decision_function_shape=ovr, gamma=auto, kernel=sigmoid; total time=   6.2s\n",
      "[CV] END C=100, decision_function_shape=ovr, gamma=auto, kernel=sigmoid; total time=   6.2s\n",
      "Best Parameters: {'C': 10, 'decision_function_shape': 'ovo', 'gamma': 'scale', 'kernel': 'rbf'}\n",
      "Best Score: 0.8173333333333334\n",
      "Test Accuracy with Best Model: 0.778\n"
     ]
    }
   ],
   "source": [
    "from sklearn.model_selection import GridSearchCV\n",
    "from sklearn.svm import SVC\n",
    "\n",
    "\n",
    "parameter_space = {\n",
    "    'C': [1, 10, 50, 100],\n",
    "    'gamma': ['scale', 'auto'],\n",
    "    'kernel': ['linear', 'poly', 'rbf', 'sigmoid'],\n",
    "    'decision_function_shape': ['ovo', 'ovr']\n",
    "    \n",
    "}\n",
    "\n",
    "svc = SVC()\n",
    "\n",
    "\n",
    "grid_search = GridSearchCV(estimator=svc, param_grid=parameter_space, cv=3, scoring='accuracy', verbose=2)\n",
    "grid_search.fit(PCA_train, dataset.train['labels'])\n",
    "\n",
    "best_params = grid_search.best_params_\n",
    "best_score = grid_search.best_score_\n",
    "\n",
    "print(\"Best Parameters:\", best_params)\n",
    "print(\"Best Score:\", best_score)\n",
    "\n",
    "best_svc = grid_search.best_estimator_\n",
    "best_svc.fit(PCA_train, dataset.train['labels'])\n",
    "\n",
    "test_accuracy = best_svc.score(PCA_test, dataset.test['labels'])\n",
    "print(\"Test Accuracy with Best Model:\", test_accuracy)"
   ]
  },
  {
   "cell_type": "code",
   "execution_count": null,
   "metadata": {},
   "outputs": [],
   "source": [
    "#Best Parameters: {'C': 10, 'decision_function_shape': 'ovo', 'gamma': 'scale', 'kernel': 'rbf'}\n",
    "#Best Score: 0.8173333333333334\n",
    "#Test Accuracy with Best Model: 0.778"
   ]
  },
  {
   "cell_type": "markdown",
   "metadata": {},
   "source": [
    "## PCA normalized [-1,1]"
   ]
  },
  {
   "cell_type": "code",
   "execution_count": 52,
   "metadata": {},
   "outputs": [],
   "source": [
    "scaler = MinMaxScaler(feature_range=(-1, 1))\n",
    "PCA_11_train = scaler.fit_transform(PCA_train)\n",
    "PCA_11_test = scaler.fit_transform(PCA_test)"
   ]
  },
  {
   "cell_type": "code",
   "execution_count": 53,
   "metadata": {},
   "outputs": [
    {
     "name": "stdout",
     "output_type": "stream",
     "text": [
      "(15000, 116)\n",
      "1.0000000000000004\n",
      "-1.0\n"
     ]
    }
   ],
   "source": [
    "print(PCA_11_train.shape)\n",
    "print(PCA_11_train.max(axis=0).max())\n",
    "print(PCA_11_train.min(axis=0).min())"
   ]
  },
  {
   "cell_type": "code",
   "execution_count": 54,
   "metadata": {},
   "outputs": [
    {
     "name": "stdout",
     "output_type": "stream",
     "text": [
      "Fitting 3 folds for each of 64 candidates, totalling 192 fits\n",
      "[CV] END C=1, decision_function_shape=ovo, gamma=scale, kernel=linear; total time=   5.8s\n",
      "[CV] END C=1, decision_function_shape=ovo, gamma=scale, kernel=linear; total time=   5.8s\n",
      "[CV] END C=1, decision_function_shape=ovo, gamma=scale, kernel=linear; total time=   5.8s\n",
      "[CV] END C=1, decision_function_shape=ovo, gamma=scale, kernel=poly; total time=   6.8s\n",
      "[CV] END C=1, decision_function_shape=ovo, gamma=scale, kernel=poly; total time=   6.8s\n",
      "[CV] END C=1, decision_function_shape=ovo, gamma=scale, kernel=poly; total time=   6.9s\n",
      "[CV] END C=1, decision_function_shape=ovo, gamma=scale, kernel=rbf; total time=  11.4s\n",
      "[CV] END C=1, decision_function_shape=ovo, gamma=scale, kernel=rbf; total time=  11.4s\n",
      "[CV] END C=1, decision_function_shape=ovo, gamma=scale, kernel=rbf; total time=  11.2s\n",
      "[CV] END C=1, decision_function_shape=ovo, gamma=scale, kernel=sigmoid; total time=   6.9s\n",
      "[CV] END C=1, decision_function_shape=ovo, gamma=scale, kernel=sigmoid; total time=   7.1s\n",
      "[CV] END C=1, decision_function_shape=ovo, gamma=scale, kernel=sigmoid; total time=   7.1s\n",
      "[CV] END C=1, decision_function_shape=ovo, gamma=auto, kernel=linear; total time=   5.7s\n",
      "[CV] END C=1, decision_function_shape=ovo, gamma=auto, kernel=linear; total time=   5.9s\n",
      "[CV] END C=1, decision_function_shape=ovo, gamma=auto, kernel=linear; total time=   5.7s\n",
      "[CV] END C=1, decision_function_shape=ovo, gamma=auto, kernel=poly; total time=  11.4s\n",
      "[CV] END C=1, decision_function_shape=ovo, gamma=auto, kernel=poly; total time=  11.5s\n",
      "[CV] END C=1, decision_function_shape=ovo, gamma=auto, kernel=poly; total time=  11.5s\n",
      "[CV] END C=1, decision_function_shape=ovo, gamma=auto, kernel=rbf; total time=  13.6s\n",
      "[CV] END C=1, decision_function_shape=ovo, gamma=auto, kernel=rbf; total time=  13.8s\n",
      "[CV] END C=1, decision_function_shape=ovo, gamma=auto, kernel=rbf; total time=  13.3s\n",
      "[CV] END C=1, decision_function_shape=ovo, gamma=auto, kernel=sigmoid; total time=   9.6s\n",
      "[CV] END C=1, decision_function_shape=ovo, gamma=auto, kernel=sigmoid; total time=   9.7s\n",
      "[CV] END C=1, decision_function_shape=ovo, gamma=auto, kernel=sigmoid; total time=   9.6s\n",
      "[CV] END C=1, decision_function_shape=ovr, gamma=scale, kernel=linear; total time=   5.6s\n",
      "[CV] END C=1, decision_function_shape=ovr, gamma=scale, kernel=linear; total time=   5.6s\n",
      "[CV] END C=1, decision_function_shape=ovr, gamma=scale, kernel=linear; total time=   5.8s\n",
      "[CV] END C=1, decision_function_shape=ovr, gamma=scale, kernel=poly; total time=   6.8s\n",
      "[CV] END C=1, decision_function_shape=ovr, gamma=scale, kernel=poly; total time=   6.8s\n",
      "[CV] END C=1, decision_function_shape=ovr, gamma=scale, kernel=poly; total time=   6.7s\n",
      "[CV] END C=1, decision_function_shape=ovr, gamma=scale, kernel=rbf; total time=  11.1s\n",
      "[CV] END C=1, decision_function_shape=ovr, gamma=scale, kernel=rbf; total time=  11.0s\n",
      "[CV] END C=1, decision_function_shape=ovr, gamma=scale, kernel=rbf; total time=  11.3s\n",
      "[CV] END C=1, decision_function_shape=ovr, gamma=scale, kernel=sigmoid; total time=   7.0s\n",
      "[CV] END C=1, decision_function_shape=ovr, gamma=scale, kernel=sigmoid; total time=   6.9s\n",
      "[CV] END C=1, decision_function_shape=ovr, gamma=scale, kernel=sigmoid; total time=   6.9s\n",
      "[CV] END C=1, decision_function_shape=ovr, gamma=auto, kernel=linear; total time=   5.9s\n",
      "[CV] END C=1, decision_function_shape=ovr, gamma=auto, kernel=linear; total time=   5.6s\n",
      "[CV] END C=1, decision_function_shape=ovr, gamma=auto, kernel=linear; total time=   5.6s\n",
      "[CV] END C=1, decision_function_shape=ovr, gamma=auto, kernel=poly; total time=  11.4s\n",
      "[CV] END C=1, decision_function_shape=ovr, gamma=auto, kernel=poly; total time=  11.3s\n",
      "[CV] END C=1, decision_function_shape=ovr, gamma=auto, kernel=poly; total time=  11.5s\n",
      "[CV] END C=1, decision_function_shape=ovr, gamma=auto, kernel=rbf; total time=  13.8s\n",
      "[CV] END C=1, decision_function_shape=ovr, gamma=auto, kernel=rbf; total time=  13.9s\n",
      "[CV] END C=1, decision_function_shape=ovr, gamma=auto, kernel=rbf; total time=  13.7s\n",
      "[CV] END C=1, decision_function_shape=ovr, gamma=auto, kernel=sigmoid; total time=   9.7s\n",
      "[CV] END C=1, decision_function_shape=ovr, gamma=auto, kernel=sigmoid; total time=   9.6s\n",
      "[CV] END C=1, decision_function_shape=ovr, gamma=auto, kernel=sigmoid; total time=   9.7s\n",
      "[CV] END C=10, decision_function_shape=ovo, gamma=scale, kernel=linear; total time=  10.9s\n",
      "[CV] END C=10, decision_function_shape=ovo, gamma=scale, kernel=linear; total time=  10.7s\n",
      "[CV] END C=10, decision_function_shape=ovo, gamma=scale, kernel=linear; total time=  11.0s\n",
      "[CV] END C=10, decision_function_shape=ovo, gamma=scale, kernel=poly; total time=   9.7s\n",
      "[CV] END C=10, decision_function_shape=ovo, gamma=scale, kernel=poly; total time=   9.1s\n",
      "[CV] END C=10, decision_function_shape=ovo, gamma=scale, kernel=poly; total time=   8.8s\n",
      "[CV] END C=10, decision_function_shape=ovo, gamma=scale, kernel=rbf; total time=  13.9s\n",
      "[CV] END C=10, decision_function_shape=ovo, gamma=scale, kernel=rbf; total time=  13.9s\n",
      "[CV] END C=10, decision_function_shape=ovo, gamma=scale, kernel=rbf; total time=  14.6s\n",
      "[CV] END C=10, decision_function_shape=ovo, gamma=scale, kernel=sigmoid; total time=   5.7s\n",
      "[CV] END C=10, decision_function_shape=ovo, gamma=scale, kernel=sigmoid; total time=   5.5s\n",
      "[CV] END C=10, decision_function_shape=ovo, gamma=scale, kernel=sigmoid; total time=   5.7s\n",
      "[CV] END C=10, decision_function_shape=ovo, gamma=auto, kernel=linear; total time=  11.2s\n",
      "[CV] END C=10, decision_function_shape=ovo, gamma=auto, kernel=linear; total time=  10.6s\n",
      "[CV] END C=10, decision_function_shape=ovo, gamma=auto, kernel=linear; total time=  10.8s\n",
      "[CV] END C=10, decision_function_shape=ovo, gamma=auto, kernel=poly; total time=  11.5s\n",
      "[CV] END C=10, decision_function_shape=ovo, gamma=auto, kernel=poly; total time=  11.3s\n",
      "[CV] END C=10, decision_function_shape=ovo, gamma=auto, kernel=poly; total time=  11.8s\n",
      "[CV] END C=10, decision_function_shape=ovo, gamma=auto, kernel=rbf; total time=  10.0s\n",
      "[CV] END C=10, decision_function_shape=ovo, gamma=auto, kernel=rbf; total time=   9.8s\n",
      "[CV] END C=10, decision_function_shape=ovo, gamma=auto, kernel=rbf; total time=  10.0s\n",
      "[CV] END C=10, decision_function_shape=ovo, gamma=auto, kernel=sigmoid; total time=   6.9s\n",
      "[CV] END C=10, decision_function_shape=ovo, gamma=auto, kernel=sigmoid; total time=   6.9s\n",
      "[CV] END C=10, decision_function_shape=ovo, gamma=auto, kernel=sigmoid; total time=   6.9s\n",
      "[CV] END C=10, decision_function_shape=ovr, gamma=scale, kernel=linear; total time=  11.0s\n",
      "[CV] END C=10, decision_function_shape=ovr, gamma=scale, kernel=linear; total time=  10.8s\n",
      "[CV] END C=10, decision_function_shape=ovr, gamma=scale, kernel=linear; total time=  10.7s\n",
      "[CV] END C=10, decision_function_shape=ovr, gamma=scale, kernel=poly; total time=   9.6s\n",
      "[CV] END C=10, decision_function_shape=ovr, gamma=scale, kernel=poly; total time=   8.9s\n",
      "[CV] END C=10, decision_function_shape=ovr, gamma=scale, kernel=poly; total time=   8.6s\n",
      "[CV] END C=10, decision_function_shape=ovr, gamma=scale, kernel=rbf; total time=  14.4s\n",
      "[CV] END C=10, decision_function_shape=ovr, gamma=scale, kernel=rbf; total time=  14.2s\n",
      "[CV] END C=10, decision_function_shape=ovr, gamma=scale, kernel=rbf; total time=  14.4s\n",
      "[CV] END C=10, decision_function_shape=ovr, gamma=scale, kernel=sigmoid; total time=   5.5s\n",
      "[CV] END C=10, decision_function_shape=ovr, gamma=scale, kernel=sigmoid; total time=   5.4s\n",
      "[CV] END C=10, decision_function_shape=ovr, gamma=scale, kernel=sigmoid; total time=   5.6s\n",
      "[CV] END C=10, decision_function_shape=ovr, gamma=auto, kernel=linear; total time=  10.7s\n",
      "[CV] END C=10, decision_function_shape=ovr, gamma=auto, kernel=linear; total time=  10.6s\n",
      "[CV] END C=10, decision_function_shape=ovr, gamma=auto, kernel=linear; total time=  10.8s\n",
      "[CV] END C=10, decision_function_shape=ovr, gamma=auto, kernel=poly; total time=  11.7s\n",
      "[CV] END C=10, decision_function_shape=ovr, gamma=auto, kernel=poly; total time=  11.4s\n",
      "[CV] END C=10, decision_function_shape=ovr, gamma=auto, kernel=poly; total time=  11.5s\n",
      "[CV] END C=10, decision_function_shape=ovr, gamma=auto, kernel=rbf; total time=  10.1s\n",
      "[CV] END C=10, decision_function_shape=ovr, gamma=auto, kernel=rbf; total time=   9.8s\n"
     ]
    },
    {
     "name": "stdout",
     "output_type": "stream",
     "text": [
      "[CV] END C=10, decision_function_shape=ovr, gamma=auto, kernel=rbf; total time=   9.7s\n",
      "[CV] END C=10, decision_function_shape=ovr, gamma=auto, kernel=sigmoid; total time=   7.1s\n",
      "[CV] END C=10, decision_function_shape=ovr, gamma=auto, kernel=sigmoid; total time=   6.9s\n",
      "[CV] END C=10, decision_function_shape=ovr, gamma=auto, kernel=sigmoid; total time=   7.0s\n",
      "[CV] END C=50, decision_function_shape=ovo, gamma=scale, kernel=linear; total time=  27.3s\n",
      "[CV] END C=50, decision_function_shape=ovo, gamma=scale, kernel=linear; total time=  27.7s\n",
      "[CV] END C=50, decision_function_shape=ovo, gamma=scale, kernel=linear; total time=  28.8s\n",
      "[CV] END C=50, decision_function_shape=ovo, gamma=scale, kernel=poly; total time=   9.9s\n",
      "[CV] END C=50, decision_function_shape=ovo, gamma=scale, kernel=poly; total time=   8.8s\n",
      "[CV] END C=50, decision_function_shape=ovo, gamma=scale, kernel=poly; total time=   8.0s\n",
      "[CV] END C=50, decision_function_shape=ovo, gamma=scale, kernel=rbf; total time=  14.3s\n",
      "[CV] END C=50, decision_function_shape=ovo, gamma=scale, kernel=rbf; total time=  14.7s\n",
      "[CV] END C=50, decision_function_shape=ovo, gamma=scale, kernel=rbf; total time=  14.0s\n",
      "[CV] END C=50, decision_function_shape=ovo, gamma=scale, kernel=sigmoid; total time=   5.3s\n",
      "[CV] END C=50, decision_function_shape=ovo, gamma=scale, kernel=sigmoid; total time=   5.6s\n",
      "[CV] END C=50, decision_function_shape=ovo, gamma=scale, kernel=sigmoid; total time=   5.5s\n",
      "[CV] END C=50, decision_function_shape=ovo, gamma=auto, kernel=linear; total time=  27.3s\n",
      "[CV] END C=50, decision_function_shape=ovo, gamma=auto, kernel=linear; total time=  27.9s\n",
      "[CV] END C=50, decision_function_shape=ovo, gamma=auto, kernel=linear; total time=  28.1s\n",
      "[CV] END C=50, decision_function_shape=ovo, gamma=auto, kernel=poly; total time=  11.4s\n",
      "[CV] END C=50, decision_function_shape=ovo, gamma=auto, kernel=poly; total time=  11.4s\n",
      "[CV] END C=50, decision_function_shape=ovo, gamma=auto, kernel=poly; total time=  11.5s\n",
      "[CV] END C=50, decision_function_shape=ovo, gamma=auto, kernel=rbf; total time=   9.7s\n",
      "[CV] END C=50, decision_function_shape=ovo, gamma=auto, kernel=rbf; total time=   9.4s\n",
      "[CV] END C=50, decision_function_shape=ovo, gamma=auto, kernel=rbf; total time=   9.7s\n",
      "[CV] END C=50, decision_function_shape=ovo, gamma=auto, kernel=sigmoid; total time=   6.4s\n",
      "[CV] END C=50, decision_function_shape=ovo, gamma=auto, kernel=sigmoid; total time=   6.3s\n",
      "[CV] END C=50, decision_function_shape=ovo, gamma=auto, kernel=sigmoid; total time=   6.4s\n",
      "[CV] END C=50, decision_function_shape=ovr, gamma=scale, kernel=linear; total time=  27.3s\n",
      "[CV] END C=50, decision_function_shape=ovr, gamma=scale, kernel=linear; total time=  27.5s\n",
      "[CV] END C=50, decision_function_shape=ovr, gamma=scale, kernel=linear; total time=  28.1s\n",
      "[CV] END C=50, decision_function_shape=ovr, gamma=scale, kernel=poly; total time=   9.7s\n",
      "[CV] END C=50, decision_function_shape=ovr, gamma=scale, kernel=poly; total time=   8.7s\n",
      "[CV] END C=50, decision_function_shape=ovr, gamma=scale, kernel=poly; total time=   7.8s\n",
      "[CV] END C=50, decision_function_shape=ovr, gamma=scale, kernel=rbf; total time=  14.2s\n",
      "[CV] END C=50, decision_function_shape=ovr, gamma=scale, kernel=rbf; total time=  15.3s\n",
      "[CV] END C=50, decision_function_shape=ovr, gamma=scale, kernel=rbf; total time=  14.2s\n",
      "[CV] END C=50, decision_function_shape=ovr, gamma=scale, kernel=sigmoid; total time=   5.2s\n",
      "[CV] END C=50, decision_function_shape=ovr, gamma=scale, kernel=sigmoid; total time=   5.4s\n",
      "[CV] END C=50, decision_function_shape=ovr, gamma=scale, kernel=sigmoid; total time=   5.2s\n",
      "[CV] END C=50, decision_function_shape=ovr, gamma=auto, kernel=linear; total time=  27.4s\n",
      "[CV] END C=50, decision_function_shape=ovr, gamma=auto, kernel=linear; total time=  27.9s\n",
      "[CV] END C=50, decision_function_shape=ovr, gamma=auto, kernel=linear; total time=  28.3s\n",
      "[CV] END C=50, decision_function_shape=ovr, gamma=auto, kernel=poly; total time=  11.5s\n",
      "[CV] END C=50, decision_function_shape=ovr, gamma=auto, kernel=poly; total time=  11.6s\n",
      "[CV] END C=50, decision_function_shape=ovr, gamma=auto, kernel=poly; total time=  11.3s\n",
      "[CV] END C=50, decision_function_shape=ovr, gamma=auto, kernel=rbf; total time=   9.5s\n",
      "[CV] END C=50, decision_function_shape=ovr, gamma=auto, kernel=rbf; total time=   9.8s\n",
      "[CV] END C=50, decision_function_shape=ovr, gamma=auto, kernel=rbf; total time=   9.7s\n",
      "[CV] END C=50, decision_function_shape=ovr, gamma=auto, kernel=sigmoid; total time=   6.6s\n",
      "[CV] END C=50, decision_function_shape=ovr, gamma=auto, kernel=sigmoid; total time=   6.4s\n",
      "[CV] END C=50, decision_function_shape=ovr, gamma=auto, kernel=sigmoid; total time=   6.3s\n",
      "[CV] END C=100, decision_function_shape=ovo, gamma=scale, kernel=linear; total time=  46.4s\n",
      "[CV] END C=100, decision_function_shape=ovo, gamma=scale, kernel=linear; total time=  47.2s\n",
      "[CV] END C=100, decision_function_shape=ovo, gamma=scale, kernel=linear; total time=  47.6s\n",
      "[CV] END C=100, decision_function_shape=ovo, gamma=scale, kernel=poly; total time=   9.9s\n",
      "[CV] END C=100, decision_function_shape=ovo, gamma=scale, kernel=poly; total time=   8.6s\n",
      "[CV] END C=100, decision_function_shape=ovo, gamma=scale, kernel=poly; total time=   8.0s\n",
      "[CV] END C=100, decision_function_shape=ovo, gamma=scale, kernel=rbf; total time=  14.0s\n",
      "[CV] END C=100, decision_function_shape=ovo, gamma=scale, kernel=rbf; total time=  14.9s\n",
      "[CV] END C=100, decision_function_shape=ovo, gamma=scale, kernel=rbf; total time=  14.4s\n",
      "[CV] END C=100, decision_function_shape=ovo, gamma=scale, kernel=sigmoid; total time=   5.3s\n",
      "[CV] END C=100, decision_function_shape=ovo, gamma=scale, kernel=sigmoid; total time=   5.3s\n",
      "[CV] END C=100, decision_function_shape=ovo, gamma=scale, kernel=sigmoid; total time=   5.5s\n",
      "[CV] END C=100, decision_function_shape=ovo, gamma=auto, kernel=linear; total time=  46.5s\n",
      "[CV] END C=100, decision_function_shape=ovo, gamma=auto, kernel=linear; total time=  47.0s\n",
      "[CV] END C=100, decision_function_shape=ovo, gamma=auto, kernel=linear; total time=  47.5s\n",
      "[CV] END C=100, decision_function_shape=ovo, gamma=auto, kernel=poly; total time=  11.9s\n",
      "[CV] END C=100, decision_function_shape=ovo, gamma=auto, kernel=poly; total time=  11.6s\n",
      "[CV] END C=100, decision_function_shape=ovo, gamma=auto, kernel=poly; total time=  11.6s\n",
      "[CV] END C=100, decision_function_shape=ovo, gamma=auto, kernel=rbf; total time=  10.1s\n",
      "[CV] END C=100, decision_function_shape=ovo, gamma=auto, kernel=rbf; total time=  10.1s\n",
      "[CV] END C=100, decision_function_shape=ovo, gamma=auto, kernel=rbf; total time=  10.2s\n",
      "[CV] END C=100, decision_function_shape=ovo, gamma=auto, kernel=sigmoid; total time=   6.8s\n",
      "[CV] END C=100, decision_function_shape=ovo, gamma=auto, kernel=sigmoid; total time=   6.7s\n",
      "[CV] END C=100, decision_function_shape=ovo, gamma=auto, kernel=sigmoid; total time=   6.8s\n",
      "[CV] END C=100, decision_function_shape=ovr, gamma=scale, kernel=linear; total time=  46.3s\n",
      "[CV] END C=100, decision_function_shape=ovr, gamma=scale, kernel=linear; total time=  46.9s\n",
      "[CV] END C=100, decision_function_shape=ovr, gamma=scale, kernel=linear; total time=  47.7s\n",
      "[CV] END C=100, decision_function_shape=ovr, gamma=scale, kernel=poly; total time=   9.6s\n",
      "[CV] END C=100, decision_function_shape=ovr, gamma=scale, kernel=poly; total time=   8.8s\n",
      "[CV] END C=100, decision_function_shape=ovr, gamma=scale, kernel=poly; total time=   7.9s\n",
      "[CV] END C=100, decision_function_shape=ovr, gamma=scale, kernel=rbf; total time=  14.4s\n",
      "[CV] END C=100, decision_function_shape=ovr, gamma=scale, kernel=rbf; total time=  15.0s\n",
      "[CV] END C=100, decision_function_shape=ovr, gamma=scale, kernel=rbf; total time=  14.2s\n",
      "[CV] END C=100, decision_function_shape=ovr, gamma=scale, kernel=sigmoid; total time=   5.3s\n",
      "[CV] END C=100, decision_function_shape=ovr, gamma=scale, kernel=sigmoid; total time=   5.4s\n",
      "[CV] END C=100, decision_function_shape=ovr, gamma=scale, kernel=sigmoid; total time=   5.2s\n",
      "[CV] END C=100, decision_function_shape=ovr, gamma=auto, kernel=linear; total time=  46.4s\n",
      "[CV] END C=100, decision_function_shape=ovr, gamma=auto, kernel=linear; total time=  47.4s\n",
      "[CV] END C=100, decision_function_shape=ovr, gamma=auto, kernel=linear; total time=  48.1s\n"
     ]
    },
    {
     "name": "stdout",
     "output_type": "stream",
     "text": [
      "[CV] END C=100, decision_function_shape=ovr, gamma=auto, kernel=poly; total time=  11.2s\n",
      "[CV] END C=100, decision_function_shape=ovr, gamma=auto, kernel=poly; total time=  11.8s\n",
      "[CV] END C=100, decision_function_shape=ovr, gamma=auto, kernel=poly; total time=  11.4s\n",
      "[CV] END C=100, decision_function_shape=ovr, gamma=auto, kernel=rbf; total time=  10.3s\n",
      "[CV] END C=100, decision_function_shape=ovr, gamma=auto, kernel=rbf; total time=  10.2s\n",
      "[CV] END C=100, decision_function_shape=ovr, gamma=auto, kernel=rbf; total time=  10.0s\n",
      "[CV] END C=100, decision_function_shape=ovr, gamma=auto, kernel=sigmoid; total time=   6.8s\n",
      "[CV] END C=100, decision_function_shape=ovr, gamma=auto, kernel=sigmoid; total time=   6.8s\n",
      "[CV] END C=100, decision_function_shape=ovr, gamma=auto, kernel=sigmoid; total time=   6.6s\n",
      "Best Parameters: {'C': 10, 'decision_function_shape': 'ovo', 'gamma': 'scale', 'kernel': 'rbf'}\n",
      "Best Score: 0.7981333333333334\n",
      "Test Accuracy with Best Model: 0.732\n"
     ]
    }
   ],
   "source": [
    "from sklearn.model_selection import GridSearchCV\n",
    "from sklearn.svm import SVC\n",
    "\n",
    "\n",
    "parameter_space = {\n",
    "    'C': [1, 10, 50, 100],\n",
    "    'gamma': ['scale', 'auto'],\n",
    "    'kernel': ['linear', 'poly', 'rbf', 'sigmoid'],\n",
    "    'decision_function_shape': ['ovo', 'ovr']\n",
    "    \n",
    "}\n",
    "\n",
    "svc = SVC()\n",
    "\n",
    "\n",
    "grid_search = GridSearchCV(estimator=svc, param_grid=parameter_space, cv=3, scoring='accuracy', verbose=2)\n",
    "grid_search.fit(PCA_11_train, dataset.train['labels'])\n",
    "\n",
    "best_params = grid_search.best_params_\n",
    "best_score = grid_search.best_score_\n",
    "\n",
    "print(\"Best Parameters:\", best_params)\n",
    "print(\"Best Score:\", best_score)\n",
    "\n",
    "best_svc = grid_search.best_estimator_\n",
    "best_svc.fit(PCA_11_train, dataset.train['labels'])\n",
    "\n",
    "test_accuracy = best_svc.score(PCA_11_test, dataset.test['labels'])\n",
    "print(\"Test Accuracy with Best Model:\", test_accuracy)"
   ]
  },
  {
   "cell_type": "code",
   "execution_count": null,
   "metadata": {},
   "outputs": [],
   "source": [
    "#Best Parameters: {'C': 10, 'decision_function_shape': 'ovo', 'gamma': 'scale', 'kernel': 'rbf'}\n",
    "#Best Score: 0.7981333333333334\n",
    "#Test Accuracy with Best Model: 0.732"
   ]
  },
  {
   "cell_type": "markdown",
   "metadata": {},
   "source": [
    "### Inspect the number of support vectors depending on C"
   ]
  },
  {
   "cell_type": "code",
   "execution_count": 115,
   "metadata": {},
   "outputs": [
    {
     "name": "stdout",
     "output_type": "stream",
     "text": [
      "[2704 3516 2455] support vectors for C=1\n",
      "[2984 3791 2685] support vectors for C=10\n",
      "[2992 3794 2708] support vectors for C=50\n",
      "[2992 3794 2708] support vectors for C=100\n"
     ]
    }
   ],
   "source": [
    "from sklearn.model_selection import cross_val_score, KFold\n",
    "\n",
    "C_list = [1, 10, 50, 100]\n",
    "\n",
    "for C in C_list:\n",
    "    svm = SVC(C=C, gamma='scale', kernel='rbf', decision_function_shape='ovo')\n",
    "    svm.fit(dataset.train['hog'], dataset.train['labels'])\n",
    "\n",
    "    vectors_per_class = svm.n_support_ #Number of \"Support Vector\" for each class\n",
    "    print(f'{vectors_per_class} support vectors for C={C}')"
   ]
  },
  {
   "cell_type": "markdown",
   "metadata": {},
   "source": [
    "# Comparing algorithms\n",
    "\n",
    "Using the best hyper-parameters that you found for each of the algorithms (kNN, Decision Trees, Random Forests, MLP, SVM):\n",
    "\n",
    "* Re-train the models on the full training set.\n",
    "* Compare their results on the test set."
   ]
  },
  {
   "cell_type": "code",
   "execution_count": 55,
   "metadata": {},
   "outputs": [],
   "source": [
    "from sklearn.neighbors import KNeighborsClassifier\n",
    "from sklearn import tree\n",
    "from sklearn.tree import DecisionTreeClassifier\n",
    "from sklearn import ensemble\n",
    "from sklearn.ensemble import RandomForestClassifier\n",
    "from sklearn.neural_network import MLPClassifier\n",
    "from sklearn.svm import SVC\n",
    "\n",
    "\n",
    "from sklearn.metrics import confusion_matrix, accuracy_score"
   ]
  },
  {
   "cell_type": "markdown",
   "metadata": {},
   "source": [
    "### KNN"
   ]
  },
  {
   "cell_type": "code",
   "execution_count": 65,
   "metadata": {},
   "outputs": [
    {
     "name": "stdout",
     "output_type": "stream",
     "text": [
      "[[760 191  49]\n",
      " [ 72 837  91]\n",
      " [ 16 212 772]]\n",
      "0.7896666666666666\n"
     ]
    }
   ],
   "source": [
    "knn = KNeighborsClassifier(metric= 'manhattan', n_neighbors= 10, weights = 'distance')\n",
    "knn.fit(normalized_01_train, dataset.train['labels'] )\n",
    "\n",
    "pred_knn = knn.predict(normalized_01_test)\n",
    "\n",
    "cm_knn = confusion_matrix(dataset.test['labels'], pred_knn)\n",
    "acc_knn = accuracy_score(dataset.test['labels'], pred_knn)\n",
    "\n",
    "print(cm_knn)\n",
    "print(acc_knn)"
   ]
  },
  {
   "cell_type": "markdown",
   "metadata": {},
   "source": [
    "### Decision tree"
   ]
  },
  {
   "cell_type": "code",
   "execution_count": 75,
   "metadata": {},
   "outputs": [
    {
     "name": "stdout",
     "output_type": "stream",
     "text": [
      "[[716 188  96]\n",
      " [198 581 221]\n",
      " [119 339 542]]\n",
      "0.613\n"
     ]
    }
   ],
   "source": [
    "dt = DecisionTreeClassifier(criterion= 'entropy', max_depth= 8, \n",
    "                             max_features= 'sqrt', min_samples_leaf= 2, \n",
    "                             min_samples_split= 2, splitter= 'best')\n",
    "dt.fit(PCA_train, dataset.train['labels'] )\n",
    "\n",
    "pred_dt = dt.predict(PCA_test)\n",
    "\n",
    "cm_dt = confusion_matrix(dataset.test['labels'], pred_dt)\n",
    "acc_dt = accuracy_score(dataset.test['labels'], pred_dt)\n",
    "\n",
    "print(cm_dt)\n",
    "print(acc_dt)"
   ]
  },
  {
   "cell_type": "markdown",
   "metadata": {},
   "source": [
    "### Random forest"
   ]
  },
  {
   "cell_type": "code",
   "execution_count": 77,
   "metadata": {},
   "outputs": [
    {
     "name": "stdout",
     "output_type": "stream",
     "text": [
      "[[786 161  53]\n",
      " [130 733 137]\n",
      " [ 56 159 785]]\n",
      "0.768\n"
     ]
    }
   ],
   "source": [
    "rf = RandomForestClassifier(criterion= 'entropy', max_depth= 25, \n",
    "                             max_features= 'auto', n_estimators=100)\n",
    "rf.fit(dataset.train['hog'], dataset.train['labels'] )\n",
    "\n",
    "pred_rf = rf.predict(dataset.test['hog'])\n",
    "\n",
    "cm_rf = confusion_matrix(dataset.test['labels'], pred_rf)\n",
    "acc_rf = accuracy_score(dataset.test['labels'], pred_rf)\n",
    "\n",
    "print(cm_rf)\n",
    "print(acc_rf)"
   ]
  },
  {
   "cell_type": "markdown",
   "metadata": {},
   "source": [
    "### MLP one hidden layer"
   ]
  },
  {
   "cell_type": "code",
   "execution_count": 82,
   "metadata": {},
   "outputs": [
    {
     "name": "stdout",
     "output_type": "stream",
     "text": [
      "[[837 139  24]\n",
      " [186 747  67]\n",
      " [ 90 223 687]]\n",
      "0.757\n"
     ]
    }
   ],
   "source": [
    "mlp_1 = MLPClassifier(hidden_layer_sizes=(70,), activation='relu', solver='adam',\n",
    "                             learning_rate_init=0.001, learning_rate='constant', max_iter=1000)\n",
    "mlp_1.fit(PCA_train, dataset.train['labels'])\n",
    "\n",
    "pred_mlp1 = mlp_1.predict(PCA_test)\n",
    "\n",
    "cm_mlp1 = confusion_matrix(dataset.test['labels'], pred_mlp1)\n",
    "acc_mlp1 = accuracy_score(dataset.test['labels'], pred_mlp1)\n",
    "\n",
    "print(cm_mlp1)\n",
    "print(acc_mlp1)"
   ]
  },
  {
   "cell_type": "markdown",
   "metadata": {},
   "source": [
    "### MLP multiple hidden layers"
   ]
  },
  {
   "cell_type": "code",
   "execution_count": 84,
   "metadata": {},
   "outputs": [
    {
     "name": "stdout",
     "output_type": "stream",
     "text": [
      "[[822 132  46]\n",
      " [141 738 121]\n",
      " [ 42 122 836]]\n",
      "0.7986666666666666\n"
     ]
    }
   ],
   "source": [
    "mlp_2 = MLPClassifier(hidden_layer_sizes=(100,100), activation='relu', solver='adam',\n",
    "                             learning_rate_init=0.01, learning_rate='constant', max_iter=1000)\n",
    "mlp_2.fit(dataset.train['hog'], dataset.train['labels'])\n",
    "\n",
    "pred_mlp2 = mlp_2.predict(dataset.test['hog'])\n",
    "\n",
    "cm_mlp2 = confusion_matrix(dataset.test['labels'], pred_mlp2)\n",
    "acc_mlp2 = accuracy_score(dataset.test['labels'], pred_mlp2)\n",
    "\n",
    "print(cm_mlp2)\n",
    "print(acc_mlp2)"
   ]
  },
  {
   "cell_type": "markdown",
   "metadata": {},
   "source": [
    "### SVM"
   ]
  },
  {
   "cell_type": "code",
   "execution_count": 85,
   "metadata": {},
   "outputs": [
    {
     "name": "stdout",
     "output_type": "stream",
     "text": [
      "[[856 108  36]\n",
      " [122 779  99]\n",
      " [ 44 115 841]]\n",
      "0.8253333333333334\n"
     ]
    }
   ],
   "source": [
    "svm = SVC(C=10, gamma='scale', kernel='rbf', decision_function_shape='ovo')\n",
    "svm.fit(dataset.train['hog'], dataset.train['labels'])\n",
    "\n",
    "pred_svm = svm.predict(dataset.test['hog'])\n",
    "\n",
    "cm_svm = confusion_matrix(dataset.test['labels'], pred_svm)\n",
    "acc_svm = accuracy_score(dataset.test['labels'], pred_svm)\n",
    "\n",
    "print(cm_svm)\n",
    "print(acc_svm)"
   ]
  },
  {
   "cell_type": "markdown",
   "metadata": {},
   "source": [
    "## Plot all"
   ]
  },
  {
   "cell_type": "code",
   "execution_count": 91,
   "metadata": {},
   "outputs": [],
   "source": [
    "import matplotlib.pyplot as plt\n",
    "import numpy as np\n",
    "import seaborn as sns"
   ]
  },
  {
   "cell_type": "code",
   "execution_count": 113,
   "metadata": {},
   "outputs": [
    {
     "data": {
      "image/png": "[encoded data removed]",
      "text/plain": [
       "<Figure size 1500x800 with 12 Axes>"
      ]
     },
     "metadata": {},
     "output_type": "display_data"
    }
   ],
   "source": [
    "fig, axs = plt.subplots(2,3, figsize=(15,8))\n",
    "\n",
    "sns.heatmap(cm_knn/cm_knn.sum(axis=1, keepdims=True), annot=True, ax=axs[0,0], cmap='Reds', vmin=0, vmax=1)\n",
    "axs[0,0].set_title(f'K-nearest neighbors ({acc_knn:.4f})')\n",
    "sns.heatmap(cm_dt/cm_dt.sum(axis=1, keepdims=True), annot=True, ax=axs[0,1], cmap='Reds', vmin=0, vmax=1)\n",
    "axs[0,1].set_title(f'Decision tree ({acc_dt:.4f})')\n",
    "sns.heatmap(cm_rf/cm_rf.sum(axis=1, keepdims=True), annot=True, ax=axs[0,2], cmap='Reds', vmin=0, vmax=1)\n",
    "axs[0,2].set_title(f'Random forest ({acc_rf:.4f})')\n",
    "sns.heatmap(cm_mlp1/cm_mlp1.sum(axis=1, keepdims=True), annot=True, ax=axs[1,0], cmap='Reds', vmin=0, vmax=1)\n",
    "axs[1,0].set_title(f'MLP one hidden layer ({acc_mlp1:.4f})')\n",
    "sns.heatmap(cm_mlp2/cm_mlp2.sum(axis=1, keepdims=True), annot=True, ax=axs[1,1], cmap='Reds', vmin=0, vmax=1)\n",
    "axs[1,1].set_title(f'MLP multiple hidden layers ({acc_mlp2:.4f})')\n",
    "sns.heatmap(cm_svm/cm_svm.sum(axis=1, keepdims=True), annot=True, ax=axs[1,2], cmap='Reds', vmin=0, vmax=1)\n",
    "axs[1,2].set_title(f'SVM ({acc_svm:.4f})')\n",
    "\n",
    "plt.show()"
   ]
  }
 ],
 "metadata": {
  "anaconda-cloud": {},
  "kernelspec": {
   "display_name": "Python 3 (ipykernel)",
   "language": "python",
   "name": "python3"
  },
  "language_info": {
   "codemirror_mode": {
    "name": "ipython",
    "version": 3
   },
   "file_extension": ".py",
   "mimetype": "text/x-python",
   "name": "python",
   "nbconvert_exporter": "python",
   "pygments_lexer": "ipython3",
   "version": "3.9.13"
  }
 },
 "nbformat": 4,
 "nbformat_minor": 1
}
